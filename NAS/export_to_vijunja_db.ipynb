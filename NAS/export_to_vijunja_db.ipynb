{
 "cells": [
  {
   "cell_type": "code",
   "execution_count": 37,
   "metadata": {},
   "outputs": [],
   "source": [
    "# import sqlite db file\n",
    "import sqlite3\n",
    "import os"
   ]
  },
  {
   "cell_type": "code",
   "execution_count": 38,
   "metadata": {},
   "outputs": [],
   "source": [
    "db_path = os.path.join(\"./vikunja.db\")"
   ]
  },
  {
   "cell_type": "code",
   "execution_count": 39,
   "metadata": {},
   "outputs": [],
   "source": [
    "conn = sqlite3.connect(db_path)\n",
    "c = conn.cursor()"
   ]
  },
  {
   "cell_type": "code",
   "execution_count": 40,
   "metadata": {},
   "outputs": [
    {
     "name": "stdout",
     "output_type": "stream",
     "text": [
      "[('migration',), ('projects',), ('sqlite_sequence',), ('tasks',), ('teams',), ('team_members',), ('team_projects',), ('users_projects',), ('task_assignees',), ('labels',), ('label_tasks',), ('task_reminders',), ('link_shares',), ('task_relations',), ('task_attachments',), ('task_comments',), ('buckets',), ('unsplash_photos',), ('saved_filters',), ('subscriptions',), ('favorites',), ('api_tokens',), ('typesense_sync',), ('webhooks',), ('reactions',), ('project_views',), ('task_positions',), ('task_buckets',), ('files',), ('migration_status',), ('users',), ('totp',), ('user_tokens',), ('notifications',)]\n"
     ]
    }
   ],
   "source": [
    "# read available tables\n",
    "c.execute(\"SELECT name FROM sqlite_master WHERE type='table';\")\n",
    "tables = c.fetchall()\n",
    "print(tables)"
   ]
  },
  {
   "cell_type": "code",
   "execution_count": 41,
   "metadata": {},
   "outputs": [
    {
     "name": "stdout",
     "output_type": "stream",
     "text": [
      "[(1, 'Inbox', '', '', '', 1, 0, 0, 2, 'LeExfNV?M_kUCAW-nNjbEzniobWU', 65536.0, '2025-02-23 07:07:20', '2025-02-24 06:56:37'), (2, 'Old Old Notes Oneplus', '', '', '8000ff', 1, 0, 0, 0, '', 131072.0, '2025-02-24 07:32:33', '2025-02-24 07:34:15'), (3, 'Old Notes Todoist', '', '', 'ff80c0', 1, 0, 0, 0, '', 196608.0, '2025-02-24 07:33:20', '2025-02-24 07:33:20'), (4, 'Home Todoist', '<p></p>', '', '008080', 1, 0, 0, 0, '', 262144.0, '2025-02-24 07:33:31', '2025-02-24 07:33:49'), (5, 'Inbox Todoist', '', '', '800000', 1, 0, 0, 0, '', 327680.0, '2025-02-24 07:34:02', '2025-02-24 07:34:02')]\n"
     ]
    }
   ],
   "source": [
    "# select projects\n",
    "c.execute(\"SELECT * FROM projects;\")\n",
    "projects = c.fetchall()\n",
    "print(projects)"
   ]
  },
  {
   "cell_type": "code",
   "execution_count": 16,
   "metadata": {},
   "outputs": [
    {
     "name": "stdout",
     "output_type": "stream",
     "text": [
      "(1, 'test task one', '', 1, '2025-02-24 06:56:37', None, 1, 0, 0, 0, None, None, '', 0.0, 1, '7bea3e62-61af-4ce9-a80b-538ee8833642', 0, '2025-02-23 07:07:50', '2025-02-24 06:56:37', 1)\n",
      "(2, 'test', '', 0, None, '2025-02-24 07:15:14', 1, 0, 0, 0, None, None, '', 0.0, 2, '5d93a5e0-6416-4598-9790-88e8af7a0a22', 0, '2025-02-23 07:15:14', '2025-02-23 07:15:14', 1)\n",
      "(3, 'test 3', '', 1, '2025-02-24 06:56:36', None, 1, 0, 0, 0, None, None, '', 0.0, 3, '2a11d080-ec08-4286-9f08-ee77f1490333', 0, '2025-02-23 07:15:42', '2025-02-24 06:56:36', 1)\n",
      "(4, \"had yet another one of those dreams where I am supposed to have given and interview. I was called and stuff. I even gave a pretty decent interview. but it was in 501 lol. it went really well. weird man. Anyway it didn't really result in anything as far as I an concerned. \", '', 0, None, '2025-02-25 05:38:25', 1, 0, 0, 0, None, None, '', 0.0, 4, '2563caa8-e2fa-42b1-9097-71f0b6e703cc', 0, '2025-02-24 05:38:26', '2025-02-24 05:38:26', 1)\n",
      "(5, 'Going to start making android applications even if only as a hobby, itll be something i always do. something i love. ill put everything on fdroid once i get the time.', '', 0, None, None, 1, 0, 0, 0, None, None, '', 0.0, 5, '49293cd6-921e-4508-b110-806740627cdd', 0, '2025-02-24 06:53:27', '2025-02-24 06:53:27', 1)\n"
     ]
    }
   ],
   "source": [
    "# print the tasks table\n",
    "c.execute(\"SELECT * FROM tasks;\")\n",
    "tasks = c.fetchall()\n",
    "\n",
    "# print it nicely\n",
    "for task in tasks:\n",
    "    print(task)"
   ]
  },
  {
   "cell_type": "code",
   "execution_count": 43,
   "metadata": {},
   "outputs": [
    {
     "name": "stdout",
     "output_type": "stream",
     "text": [
      "(0, 'id', 'INTEGER', 1, None, 1)\n",
      "(1, 'title', 'TEXT', 1, None, 0)\n",
      "(2, 'description', 'TEXT', 0, None, 0)\n",
      "(3, 'done', 'INTEGER', 0, None, 0)\n",
      "(4, 'done_at', 'DATETIME', 0, None, 0)\n",
      "(5, 'due_date', 'DATETIME', 0, None, 0)\n",
      "(6, 'project_id', 'INTEGER', 1, None, 0)\n",
      "(7, 'repeat_after', 'INTEGER', 0, None, 0)\n",
      "(8, 'repeat_mode', 'INTEGER', 1, '0', 0)\n",
      "(9, 'priority', 'INTEGER', 0, None, 0)\n",
      "(10, 'start_date', 'DATETIME', 0, None, 0)\n",
      "(11, 'end_date', 'DATETIME', 0, None, 0)\n",
      "(12, 'hex_color', 'TEXT', 0, None, 0)\n",
      "(13, 'percent_done', 'REAL', 0, None, 0)\n",
      "(14, 'index', 'INTEGER', 1, '0', 0)\n",
      "(15, 'uid', 'TEXT', 0, None, 0)\n",
      "(16, 'cover_image_attachment_id', 'INTEGER', 0, '0', 0)\n",
      "(17, 'created', 'DATETIME', 1, None, 0)\n",
      "(18, 'updated', 'DATETIME', 1, None, 0)\n",
      "(19, 'created_by_id', 'INTEGER', 1, None, 0)\n"
     ]
    }
   ],
   "source": [
    "# print columns for tasks\n",
    "c.execute(\"PRAGMA table_info(tasks);\")\n",
    "columns = c.fetchall()\n",
    "for i in columns:\n",
    "    print(i)"
   ]
  },
  {
   "cell_type": "code",
   "execution_count": 18,
   "metadata": {},
   "outputs": [],
   "source": [
    "# read csv file\n",
    "import csv\n",
    "\n",
    "todoist_csv_path = os.path.join(\"./Old old notes.csv\")"
   ]
  },
  {
   "cell_type": "code",
   "execution_count": 29,
   "metadata": {},
   "outputs": [
    {
     "name": "stdout",
     "output_type": "stream",
     "text": [
      "   TYPE                                            CONTENT DESCRIPTION  \\\n",
      "0  meta                                    view_style=list         NaN   \n",
      "1   NaN                                                NaN         NaN   \n",
      "2  task  tech learnings, when you are writing a script,...         NaN   \n",
      "3  task  Never have I seen someone have so much depth i...         NaN   \n",
      "4  task  I really don't and can't work after coming hom...         NaN   \n",
      "\n",
      "   PRIORITY  INDENT                 AUTHOR  RESPONSIBLE DATE DATE_LANG  \\\n",
      "0       NaN     NaN                    NaN          NaN  NaN       NaN   \n",
      "1       NaN     NaN                    NaN          NaN  NaN       NaN   \n",
      "2       4.0     1.0  Krishnaraj (29354859)          NaN  NaN       NaN   \n",
      "3       4.0     1.0  Krishnaraj (29354859)          NaN  NaN       NaN   \n",
      "4       4.0     1.0  Krishnaraj (29354859)          NaN  NaN       NaN   \n",
      "\n",
      "       TIMEZONE  DURATION  DURATION_UNIT  DEADLINE  DEADLINE_LANG  \n",
      "0           NaN       NaN            NaN       NaN            NaN  \n",
      "1           NaN       NaN            NaN       NaN            NaN  \n",
      "2  Asia/Kolkata       NaN            NaN       NaN            NaN  \n",
      "3  Asia/Kolkata       NaN            NaN       NaN            NaN  \n",
      "4  Asia/Kolkata       NaN            NaN       NaN            NaN  \n"
     ]
    }
   ],
   "source": [
    "# read csv file with pandas\n",
    "import pandas as pd\n",
    "import numpy as np\n",
    "\n",
    "df = pd.read_csv(todoist_csv_path)\n",
    "print(df.head())"
   ]
  },
  {
   "cell_type": "code",
   "execution_count": 24,
   "metadata": {},
   "outputs": [
    {
     "data": {
      "text/plain": [
       "Index(['TYPE', 'CONTENT', 'DESCRIPTION', 'PRIORITY', 'INDENT', 'AUTHOR',\n",
       "       'RESPONSIBLE', 'DATE', 'DATE_LANG', 'TIMEZONE', 'DURATION',\n",
       "       'DURATION_UNIT', 'DEADLINE', 'DEADLINE_LANG'],\n",
       "      dtype='object')"
      ]
     },
     "execution_count": 24,
     "metadata": {},
     "output_type": "execute_result"
    }
   ],
   "source": [
    "df.columns"
   ]
  },
  {
   "cell_type": "code",
   "execution_count": 25,
   "metadata": {},
   "outputs": [],
   "source": [
    "useless_cols = [\n",
    "    \"TYPE\",\n",
    "    \"PRIORITY\",\n",
    "    \"INDENT\",\n",
    "    \"AUTHOR\",\n",
    "    \"RESPONSIBLE\",\n",
    "    \"DATE\",\n",
    "    \"DATE_LANG\",\n",
    "    \"TIMEZONE\",\n",
    "    \"DURATION\",\n",
    "    \"DURATION_UNIT\",\n",
    "    \"DEADLINE\",\n",
    "    \"DEADLINE_LANG\",\n",
    "]"
   ]
  },
  {
   "cell_type": "code",
   "execution_count": 30,
   "metadata": {},
   "outputs": [],
   "source": [
    "# remove unnecessary columns\n",
    "df = df.drop(columns=useless_cols)"
   ]
  },
  {
   "cell_type": "code",
   "execution_count": 27,
   "metadata": {},
   "outputs": [
    {
     "data": {
      "text/html": [
       "<div>\n",
       "<style scoped>\n",
       "    .dataframe tbody tr th:only-of-type {\n",
       "        vertical-align: middle;\n",
       "    }\n",
       "\n",
       "    .dataframe tbody tr th {\n",
       "        vertical-align: top;\n",
       "    }\n",
       "\n",
       "    .dataframe thead th {\n",
       "        text-align: right;\n",
       "    }\n",
       "</style>\n",
       "<table border=\"1\" class=\"dataframe\">\n",
       "  <thead>\n",
       "    <tr style=\"text-align: right;\">\n",
       "      <th></th>\n",
       "      <th>CONTENT</th>\n",
       "      <th>DESCRIPTION</th>\n",
       "    </tr>\n",
       "  </thead>\n",
       "  <tbody>\n",
       "    <tr>\n",
       "      <th>0</th>\n",
       "      <td>view_style=list</td>\n",
       "      <td>NaN</td>\n",
       "    </tr>\n",
       "    <tr>\n",
       "      <th>1</th>\n",
       "      <td>NaN</td>\n",
       "      <td>NaN</td>\n",
       "    </tr>\n",
       "    <tr>\n",
       "      <th>2</th>\n",
       "      <td>tech learnings, when you are writing a script,...</td>\n",
       "      <td>NaN</td>\n",
       "    </tr>\n",
       "    <tr>\n",
       "      <th>3</th>\n",
       "      <td>Never have I seen someone have so much depth i...</td>\n",
       "      <td>NaN</td>\n",
       "    </tr>\n",
       "    <tr>\n",
       "      <th>4</th>\n",
       "      <td>I really don't and can't work after coming hom...</td>\n",
       "      <td>NaN</td>\n",
       "    </tr>\n",
       "  </tbody>\n",
       "</table>\n",
       "</div>"
      ],
      "text/plain": [
       "                                             CONTENT DESCRIPTION\n",
       "0                                    view_style=list         NaN\n",
       "1                                                NaN         NaN\n",
       "2  tech learnings, when you are writing a script,...         NaN\n",
       "3  Never have I seen someone have so much depth i...         NaN\n",
       "4  I really don't and can't work after coming hom...         NaN"
      ]
     },
     "execution_count": 27,
     "metadata": {},
     "output_type": "execute_result"
    }
   ],
   "source": [
    "df.head()"
   ]
  },
  {
   "cell_type": "code",
   "execution_count": 46,
   "metadata": {},
   "outputs": [
    {
     "data": {
      "text/html": [
       "<div>\n",
       "<style scoped>\n",
       "    .dataframe tbody tr th:only-of-type {\n",
       "        vertical-align: middle;\n",
       "    }\n",
       "\n",
       "    .dataframe tbody tr th {\n",
       "        vertical-align: top;\n",
       "    }\n",
       "\n",
       "    .dataframe thead th {\n",
       "        text-align: right;\n",
       "    }\n",
       "</style>\n",
       "<table border=\"1\" class=\"dataframe\">\n",
       "  <thead>\n",
       "    <tr style=\"text-align: right;\">\n",
       "      <th></th>\n",
       "      <th>CONTENT</th>\n",
       "      <th>DESCRIPTION</th>\n",
       "    </tr>\n",
       "  </thead>\n",
       "  <tbody>\n",
       "    <tr>\n",
       "      <th>0</th>\n",
       "      <td>view_style=list</td>\n",
       "      <td>NaN</td>\n",
       "    </tr>\n",
       "    <tr>\n",
       "      <th>2</th>\n",
       "      <td>tech learnings, when you are writing a script,...</td>\n",
       "      <td>NaN</td>\n",
       "    </tr>\n",
       "    <tr>\n",
       "      <th>3</th>\n",
       "      <td>Never have I seen someone have so much depth i...</td>\n",
       "      <td>NaN</td>\n",
       "    </tr>\n",
       "    <tr>\n",
       "      <th>4</th>\n",
       "      <td>I really don't and can't work after coming hom...</td>\n",
       "      <td>NaN</td>\n",
       "    </tr>\n",
       "    <tr>\n",
       "      <th>5</th>\n",
       "      <td>Add the playing geogussr to my list of subscri...</td>\n",
       "      <td>NaN</td>\n",
       "    </tr>\n",
       "  </tbody>\n",
       "</table>\n",
       "</div>"
      ],
      "text/plain": [
       "                                             CONTENT DESCRIPTION\n",
       "0                                    view_style=list         NaN\n",
       "2  tech learnings, when you are writing a script,...         NaN\n",
       "3  Never have I seen someone have so much depth i...         NaN\n",
       "4  I really don't and can't work after coming hom...         NaN\n",
       "5  Add the playing geogussr to my list of subscri...         NaN"
      ]
     },
     "execution_count": 46,
     "metadata": {},
     "output_type": "execute_result"
    }
   ],
   "source": [
    "## cleaning data\n",
    "# remove rows with no content\n",
    "df = df.dropna(subset=[\"CONTENT\"])\n",
    "df.head()"
   ]
  },
  {
   "cell_type": "code",
   "execution_count": 47,
   "metadata": {},
   "outputs": [
    {
     "name": "stdout",
     "output_type": "stream",
     "text": [
      "[(1,), (1,), (1,), (1,), (1,), (3,)]\n"
     ]
    }
   ],
   "source": [
    "# get last project id from tasks\n",
    "c.execute(\"SELECT project_id FROM tasks;\")\n",
    "project_ids = c.fetchall()\n",
    "print(project_ids)"
   ]
  },
  {
   "cell_type": "code",
   "execution_count": 48,
   "metadata": {},
   "outputs": [],
   "source": [
    "# read through df rows and insert into db, with created time for current time\n",
    "for index, row in df.iterrows():\n",
    "    c.execute(\n",
    "        \"INSERT INTO tasks (title, description, created, updated, project_id, created_by_id) VALUES (?, ?, datetime('now'), datetime('now'), ?, ?)\",\n",
    "        (\n",
    "            row[\"CONTENT\"],\n",
    "            row[\"DESCRIPTION\"] if row[\"DESCRIPTION\"] != np.nan else \"\",\n",
    "            3,\n",
    "            1,\n",
    "        ),\n",
    "    )"
   ]
  },
  {
   "cell_type": "code",
   "execution_count": 50,
   "metadata": {},
   "outputs": [
    {
     "name": "stdout",
     "output_type": "stream",
     "text": [
      "(6, 'view_style=list', None, None, None, None, 3, None, 0, None, None, None, None, None, 0, None, 0, '2025-02-24 07:36:41', '2025-02-24 07:36:41', 1)\n",
      "(7, 'view_style=list', None, None, None, None, 3, None, 0, None, None, None, None, None, 0, None, 0, '2025-02-24 07:37:37', '2025-02-24 07:37:37', 1)\n",
      "(8, 'tech learnings, when you are writing a script, make sure to make it generic right from the beginning, and also make sure to save your quick scripts.', None, None, None, None, 3, None, 0, None, None, None, None, None, 0, None, 0, '2025-02-24 07:37:37', '2025-02-24 07:37:37', 1)\n",
      "(9, \"Never have I seen someone have so much depth in so many areas as naman. Don't realize shit looking at him. Bros depth is endless about everything\", None, None, None, None, 3, None, 0, None, None, None, None, None, 0, None, 0, '2025-02-24 07:37:37', '2025-02-24 07:37:37', 1)\n",
      "(10, \"I really don't and can't work after coming home after a long traffic ride. It's legit not possible no matter how hard I try. The next day morning is the preferred way.\", None, None, None, None, 3, None, 0, None, None, None, None, None, 0, None, 0, '2025-02-24 07:37:37', '2025-02-24 07:37:37', 1)\n",
      "(11, \"Add the playing geogussr to my list of subscriptions. Def something I'll play often with my kids\", None, None, None, None, 3, None, 0, None, None, None, None, None, 0, None, 0, '2025-02-24 07:37:37', '2025-02-24 07:37:37', 1)\n",
      "(12, 'Make the reminder notification app yourself for urself. Keep it simple but make it', None, None, None, None, 3, None, 0, None, None, None, None, None, 0, None, 0, '2025-02-24 07:37:37', '2025-02-24 07:37:37', 1)\n",
      "(13, \"Remember our goals to become a writer, professor, podcast guy, researcher. It doesn't end at developer.\", None, None, None, None, 3, None, 0, None, None, None, None, None, 0, None, 0, '2025-02-24 07:37:37', '2025-02-24 07:37:37', 1)\n",
      "(14, 'Think about teaching corporate as well', None, None, None, None, 3, None, 0, None, None, None, None, None, 0, None, 0, '2025-02-24 07:37:37', '2025-02-24 07:37:37', 1)\n",
      "(15, 'Only start scooter when a truck in the distance starts moving', None, None, None, None, 3, None, 0, None, None, None, None, None, 0, None, 0, '2025-02-24 07:37:37', '2025-02-24 07:37:37', 1)\n",
      "(16, 'Switch those 300 notes from local to todoist.', None, None, None, None, 3, None, 0, None, None, None, None, None, 0, None, 0, '2025-02-24 07:37:37', '2025-02-24 07:37:37', 1)\n",
      "(17, 'Lesson learnt for scooter stuff. When there is traffic and ur thinking whether or not to switch off scooter to save petrol. Turn off then think. Chances are ull wait more than 10 seconds at which point it becomes worth it.', None, None, None, None, 3, None, 0, None, None, None, None, None, 0, None, 0, '2025-02-24 07:37:37', '2025-02-24 07:37:37', 1)\n",
      "(18, 'Whatever u teach definitely use manim. Instantly makes everything better.', None, None, None, None, 3, None, 0, None, None, None, None, None, 0, None, 0, '2025-02-24 07:37:37', '2025-02-24 07:37:37', 1)\n",
      "(19, \"While teaching let your desktop wallpaper be an empty dark color. You can write doubts or imp things on there. It's impact ful. Shows ur serious about this. Makes everyone serious about this.\", None, None, None, None, 3, None, 0, None, None, None, None, None, 0, None, 0, '2025-02-24 07:37:37', '2025-02-24 07:37:37', 1)\n",
      "(20, 'Think of being a Corp teacher', None, None, None, None, 3, None, 0, None, None, None, None, None, 0, None, 0, '2025-02-24 07:37:37', '2025-02-24 07:37:37', 1)\n",
      "(21, 'Learn the rmm model for naming apis and practice it.', None, None, None, None, 3, None, 0, None, None, None, None, None, 0, None, 0, '2025-02-24 07:37:37', '2025-02-24 07:37:37', 1)\n",
      "(22, 'I love buying stationery, doing mechanical hard work. Fix stuff around the house. Solve problems cheaply. Buy value for money things.', None, None, None, None, 3, None, 0, None, None, None, None, None, 0, None, 0, '2025-02-24 07:37:37', '2025-02-24 07:37:37', 1)\n",
      "(23, 'No matter how bad life is there always are some days when ur mood is good and u ignore the normal agita', None, None, None, None, 3, None, 0, None, None, None, None, None, 0, None, 0, '2025-02-24 07:37:37', '2025-02-24 07:37:37', 1)\n",
      "(24, 'Gotta get my shit together', None, None, None, None, 3, None, 0, None, None, None, None, None, 0, None, 0, '2025-02-24 07:37:37', '2025-02-24 07:37:37', 1)\n",
      "(25, 'In technical learnings this month definitely mention the db fuck up', None, None, None, None, 3, None, 0, None, None, None, None, None, 0, None, 0, '2025-02-24 07:37:37', '2025-02-24 07:37:37', 1)\n",
      "(26, \"It'll be interesting to know how I feel about ideas after it's all over. Iv been wishing for it to be over and yet I obviously love the money. In case I don't get an extension or a job with an internship then I'd be free for a while and then let's see how I feel looking back at having a job and earning money. Rn the responsibilities are a lot. I feel like I'm ruining things.\", None, None, None, None, 3, None, 0, None, None, None, None, None, 0, None, 0, '2025-02-24 07:37:37', '2025-02-24 07:37:37', 1)\n",
      "(27, 'A couple of screws will always make it better. A couple more screws never hurt anyone', None, None, None, None, 3, None, 0, None, None, None, None, None, 0, None, 0, '2025-02-24 07:37:37', '2025-02-24 07:37:37', 1)\n",
      "(28, 'The thing with college and the past few years of my life is that just when you finally get good at sth, the entire table shifts and changes.', None, None, None, None, 3, None, 0, None, None, None, None, None, 0, None, 0, '2025-02-24 07:37:37', '2025-02-24 07:37:37', 1)\n",
      "(29, \"Ironing clothes really was a pretty good feeling. It's worth incorporating it into routine. I have a feeling it's the routines that can keep a man sane when things get tough.\", None, None, None, None, 3, None, 0, None, None, None, None, None, 0, None, 0, '2025-02-24 07:37:37', '2025-02-24 07:37:37', 1)\n",
      "(30, 'Ha just remembered Morgan', None, None, None, None, 3, None, 0, None, None, None, None, None, 0, None, 0, '2025-02-24 07:37:37', '2025-02-24 07:37:37', 1)\n",
      "(31, 'Idk what it means to accept this but... I was a better programmer when I was with megha. Better than I am now. Much more confident. Got more things done', None, None, None, None, 3, None, 0, None, None, None, None, None, 0, None, 0, '2025-02-24 07:37:37', '2025-02-24 07:37:37', 1)\n",
      "(32, \"Ik it's weird to spell it out but... 3 months ago, I had a girlfriend with a good relationship, someone to rely upon, someone to tell that I loved her. Expect it from her too. I had my best friend. I had a job. A good high paying job. Next to my home. A great career start. A reliable money earning place. Lots of self confidence. A great current job reputation witb praises and appreciations. And today. None of these things exist. 😄\", None, None, None, None, 3, None, 0, None, None, None, None, None, 0, None, 0, '2025-02-24 07:37:37', '2025-02-24 07:37:37', 1)\n",
      "(33, 'Not getting selected in Avaya has put a stop to the flow that I was in. Everything was decided and I was flowing with. Now I get to choose after a pause which river to step foot in.', None, None, None, None, 3, None, 0, None, None, None, None, None, 0, None, 0, '2025-02-24 07:37:37', '2025-02-24 07:37:37', 1)\n",
      "(34, \"Prolly have to make a list of things I don't wanna do as well.\", None, None, None, None, 3, None, 0, None, None, None, None, None, 0, None, 0, '2025-02-24 07:37:37', '2025-02-24 07:37:37', 1)\n",
      "(35, \"There's a lot I wanna do. And do well. Music. Playing 3 4 instruments. Teach. Code. Make personal useful projects. Host a podcast. Teach literally all classes. Maybe on youtube? Definitely do that corporate training shit. For that much money? Definitely. I can do that. Spend time with my family. Watch a lot of shows. Read a tonne of books. Do lots of research as well. Organize my routine and be disciplined too. But artistic and moddy too. Do hard core computer science research on algs and stuff\", \"Lots of data analysis and eda. By lots I mean lots. Tonnes of graphs. Make some good evidence just by doing eda. Publish research papers from this. Articles. Present this data to people. That research papers would do. Then there's to teach my students. I also wanna make money by doing professional data science. I wanna write a lot of books and stories. Read a lot too. I wanna learn a lot of languages as well. Read in them speak them. Watch a lot of good shows in those languages. Understand more human behaviour and psychology. Believe it or not I wanna do some trading as well. I wanna be really or pretty good at all of these things. These things make me happy. I am passionate about allll of them. Every single one. I didn't just list it out I meant all of them. I wanna tell stories with history podcasts. Any one of these things makes life fulfilling for me. I wanna do all this. There it is. Now its a question of priorities. If I can do them all. When I should. What I should. Oh and I also wanna learn to draw portraits.\", None, None, None, 3, None, 0, None, None, None, None, None, 0, None, 0, '2025-02-24 07:37:37', '2025-02-24 07:37:37', 1)\n",
      "(36, 'Long task', \"You try your best. Just try. Try the best you can that you want. You may know of some global maximas that have done something similar to what you did or wanna do, but if you try, you may become a local maxima and every global maxima was once a local one. I'm saying this coz there are many things we think would be great but we don't do them coz it's not unique. It won't be that good. Say it's a cliche science project or a career choice. A book, a story a poem, a piece of software or a generic product. Try it. It may end up being your best work in hindsight. That has happened with me. So don't let commonality stop you.\", None, None, None, 3, None, 0, None, None, None, None, None, 0, None, 0, '2025-02-24 07:37:37', '2025-02-24 07:37:37', 1)\n",
      "(37, \"Clothes? Clothes like my jackets. Blue and green. Clothes like my new rick navy blue jeans. Or my navy blue t-shirt from Qatar. The max one that still looks great and doesn't need ironing. Thick stretchable cloth. Long lasting stuff. Shoes like my formals. I'll change the soles and take care of them for years and years.\", None, None, None, None, 3, None, 0, None, None, None, None, None, 0, None, 0, '2025-02-24 07:37:37', '2025-02-24 07:37:37', 1)\n",
      "(38, 'Only ironed clothes are hanged', None, None, None, None, 3, None, 0, None, None, None, None, None, 0, None, 0, '2025-02-24 07:37:37', '2025-02-24 07:37:37', 1)\n",
      "(39, \"I know it feels like I'm just spending money here and there but these are investments for me that will last for years and years. I'm making them not coz i need to but coz i can. But trust me something good left in me still tells me they are worth it.\", None, None, None, None, 3, None, 0, None, None, None, None, None, 0, None, 0, '2025-02-24 07:37:37', '2025-02-24 07:37:37', 1)\n",
      "(40, \"Kate calling castle usually always felt like an effort was being taken. It wasn't normal and real as much as pam calling Jim was. They really captured the realities well.\", None, None, None, None, 3, None, 0, None, None, None, None, None, 0, None, 0, '2025-02-24 07:37:37', '2025-02-24 07:37:37', 1)\n",
      "(41, \"When you teach something instead of just throwing words around explain basics and their means with backstory of the word. Don't assume people know. Tell them exactly what it means. Again stress on chain of thought.\", None, None, None, None, 3, None, 0, None, None, None, None, None, 0, None, 0, '2025-02-24 07:37:37', '2025-02-24 07:37:37', 1)\n",
      "(42, \"Thoroughly inspect whatever you buy don't take anything for granted. Source extension plug that was 200 rs. Worth it sure but I thought it fits in a particular socket but it doesn't it'll be useful in future coz we obviously got that risk aversion module working but didn't pay enough attention\", None, None, None, None, 3, None, 0, None, None, None, None, None, 0, None, 0, '2025-02-24 07:37:37', '2025-02-24 07:37:37', 1)\n",
      "(43, \"Noting down something for me to get or buy after achieving a goal or sth, I find that it's almost the same as me having bought it already. Maybe it's coz of the how I take my todos. Once I add to list the job is as good as over.\", None, None, None, None, 3, None, 0, None, None, None, None, None, 0, None, 0, '2025-02-24 07:37:37', '2025-02-24 07:37:37', 1)\n",
      "(44, \"As a teacher treat everyone with base respect. This is stuff like not being partial towards them, same evaluation. Same value. Same value in class, don't make too much fun, respect questions etc. But studies, reprehension, punishment is meant to be subjective.\", None, None, None, None, 3, None, 0, None, None, None, None, None, 0, None, 0, '2025-02-24 07:37:37', '2025-02-24 07:37:37', 1)\n",
      "(45, \"I was always skeptical whether it was my insecurity with megha that made me feel uneasy when she talked with other guys or was it just her way of talking with them. Ashmi has cleared that up for me. Now I don't have any romantic relationship with ashmi. Nothing even close to how I had with megha. I barely even have a friendship with her. And yet if I did, I know that I won't be doubtful of whoever she meets and whoever she talks to. Her behaviour with every other guy isn't like that. So there.\", None, None, None, None, 3, None, 0, None, None, None, None, None, 0, None, 0, '2025-02-24 07:37:37', '2025-02-24 07:37:37', 1)\n",
      "(46, \"For the record me and mom argue just as much when I was with megha vs when I wasn't. Multiple times. Just to set it straight. Iv kept note.\", None, None, None, None, 3, None, 0, None, None, None, None, None, 0, None, 0, '2025-02-24 07:37:37', '2025-02-24 07:37:37', 1)\n",
      "(47, \"Just I told mom about how I wanna help people and all, but the response was same as I'd expected. I go with the expectation that she would listen but she doesn't. She was like stop watching such videos. First few years of life man must earn. Bruh I know that I didn't say I won't and I haven't stopped. But atleast hear me out? There's no one else for me to talk to. And then they wonder why I don't talk a lot.\", None, None, None, None, 3, None, 0, None, None, None, None, None, 0, None, 0, '2025-02-24 07:37:37', '2025-02-24 07:37:37', 1)\n",
      "(48, 'The real reason I didn\\'t tell mom about any issues I had at work was... That if I had it wouldn\\'t have taken her long to throw \"his dad has problems at work, and now so does the son. Where does it end for me? I have been in this for ever\". I won\\'t be able to hear that. I don\\'t want poor krish hes got issues at work to be discussed between Meghavi and Nanu masi. And their kids. I hate that atmosphere more than anything.', None, None, None, None, 3, None, 0, None, None, None, None, None, 0, None, 0, '2025-02-24 07:37:37', '2025-02-24 07:37:37', 1)\n",
      "(49, \"Never hurt yourself or threaten to hurt yourself in front of your kid. It fucks them up. I know. Idek how can I be and act normally. This makes me think at times that even if my kid is nothing like me, as long as he or she isn't evil, I'll be okay with it. I'll even be happy maybe.\", None, None, None, None, 3, None, 0, None, None, None, None, None, 0, None, 0, '2025-02-24 07:37:37', '2025-02-24 07:37:37', 1)\n",
      "(50, 'Make the house item requirement list too just coz', None, None, None, None, 3, None, 0, None, None, None, None, None, 0, None, 0, '2025-02-24 07:37:37', '2025-02-24 07:37:37', 1)\n",
      "(51, \"This is important for me to have noted down. There will come a point in my life where I will chose to be a giver without any expectations. Truly great people are like that. Nani, baa. Great teachers, great people, they give without expecting anything. They don't want praise, they don't want any appreciation. All they care about is u and the subject. I can do that now too, but Iv seen enough evidence of what risk it carries. The world can just as easily walk over those that do not expect praise.\", \"So now, until the day I am satisfied that me and my family have enough, I will seek praise and appreciation. I will want my name to be said by a hundred people. I want people to depend on me. I want things to stop working if I'm not there and for people to depend on the fact that once I'm there everything will be fine. I want them to recognise me. I wanna work that hard and this is one of the things I will demand. I want my students to appreciate me. To be excited for my classes. I know all of this sounds selfish as fuck. But my dad has always been selfless and iv seen how people have exploited that. But deep down, yes, I want to one day achieve that level of greatness. I have it in me to let go. I will do it happily. I want to. But until the day I have enough, I will pursue everything.\\n\\nI'm noting this down because I am a man of my word. Everyone may disagree with me when I say I want enough. Everyone thinks no one ever has enough. I hate it when my mom also doesn't get it. No one trusts me enough it all just sounds like wiser words from a younger mouth. But I'll put truth to them when time arrives. I trust myself immensely in this regard. And it is in liu of this trust that I'm writing this here. So when the time does come, I know and remember what to do. What our goals are.\", None, None, None, 3, None, 0, None, None, None, None, None, 0, None, 0, '2025-02-24 07:37:37', '2025-02-24 07:37:37', 1)\n",
      "(52, \"Shadow fight... I'll always be grateful. Iv been paired with people wayyy over my skill level where my loss was destined. But for some reason I said, I'm not gonna be one of those quitters, instead I'll be one of those guys who loses with grace rather than quit in disgrace and hopelessness even if everything is hopeless. This has really helped develop that never give up attitude. I didn't really think I had it all that seriously. But now it's become part of my personality.\", \"You can't beat someone who just doesnt accept defeat now can you?\", None, None, None, 3, None, 0, None, None, None, None, None, 0, None, 0, '2025-02-24 07:37:37', '2025-02-24 07:37:37', 1)\n",
      "(53, \"I absolutely love test cricket. I love things that test your stamina. Physically I have terrible stamina. But now Iv kinda got a sweet tooth for this sorta stuff. Where you keep hitting something with all you got. And they resist with all they got. And somehow days go by, and nobody moves. But tasks are accomplished. I feel like iv been playing that test for a long time. And it's fun too. To see how far you can push me this time. Oh it's hard when you get pushed. But once it's over, it's fun.\", \"Its like I said b4. I felt like a box in a factor that gets hit and molded into the product on the belt and you can't do shit about it. Another perspective could be a test match. You keep hitting me but I just don't fucking give up. I get hurt but don't give up.\", None, None, None, 3, None, 0, None, None, None, None, None, 0, None, 0, '2025-02-24 07:37:37', '2025-02-24 07:37:37', 1)\n",
      "(54, \"I'm glad to have discovered this on the spot ad hoc note taking. A lot of things are written and not forgotten due to this that wouldn't have been.\", None, None, None, None, 3, None, 0, None, None, None, None, None, 0, None, 0, '2025-02-24 07:37:37', '2025-02-24 07:37:37', 1)\n",
      "(55, \"I feel like a child to his parent when they put their hands up to be lifted when they fall down. When you lift ur hands up for help. Both ur hands. As if asking, begging for help. The state of helplessness accepted yet there is no guilt. It doesn't hurt ur self respect to do this to ur parents. To others yes, but here no. And another reason is u think u tried ur best. There was nothing else left to do. Uv given up. U just put ur hands up waiting for someone. Pleas God. Pick me up.\", 'Put a warm blanket over me and put me to sleep. Then you decide if I should wake up again.', None, None, None, 3, None, 0, None, None, None, None, None, 0, None, 0, '2025-02-24 07:37:37', '2025-02-24 07:37:37', 1)\n",
      "(56, \"Things that just feel right is a very deep page. It carries a lot of value and weight. When u do something knowing in ur heart and logically that it's right, you can face the consequences whatever they be. And most things u feel just right are logically right too. But it's important to know it. Becoming a teacher is another one of that. I love being a software developer. But I'm not as passionate about it as much as I m about being a teacher. Choosing computer was also another one. It's hard\", \"Coz their alternatives are also not wrong and they are doable. Ull survive and do well too. It's just this one just sets itself apart somehow. Another distinctive emotion is that of surity. Your very very sure of sth. I never felt that with megha. It was always so unclear from her too. A lot of things made sense, but this feeling wasn't there. Doing these cable wires felt right. MIT felt right. See these are very unrelated things but this feeling of it being right is common and very strong in these. Your willing to fight your way to defend this decision of yours. You are willing to protect it. Whatever it takes. Like the Wire thing? I'd have argued a lot if mom and dad had said no. If they did say no, I'd find another way. If find yet another way but I was so sure that it had to be done. It was the right thing to do. I see this is what Saubhagya realizes from the way he talks about his girlfriend. This is when we were talking about megha. I gave some reasons which seemed petty to him. They sounded but they weren't, but I could see exactly where his words were coming from. It was from this confidence of knowing what you have is right. There is no alternative. This is the way. This is _right_. So you can then deal with everything else.\", None, None, None, 3, None, 0, None, None, None, None, None, 0, None, 0, '2025-02-24 07:37:37', '2025-02-24 07:37:37', 1)\n",
      "(57, 'I love to sing too. I wish I could. I wish I had the voice.', None, None, None, None, 3, None, 0, None, None, None, None, None, 0, None, 0, '2025-02-24 07:37:37', '2025-02-24 07:37:37', 1)\n",
      "(58, \"Something Iv learn as to being a teacher is that in the beginning, you HAVE to make ur children believe they can do ur subject. Atleast enough that they can think to themselves, oh this one, this subject I can do. They get this when their teacher praises them. Even if they make mistakes, in week, praise everyone in labs, when they reply something, encourage them. That's the kinda teacher I'll be. A very very encouraging one. I love praising people. I'll be reprehensive too, but I'll definitely\", \"Appreciate everyone. Everyone will think that they can also do my subject. Something I wish Harry had done. Atleast let me get comfortable before making me uncomfortable. But because uv become comfortable once, you develop some grit and u can survive what comes. But if the first blow is bad, it's hard to recover. It's like how I felt with avaya. Coz iv cracked that interview even if I fail a few, my confidence wont be shackled. Not as much as it would have been if all my first few interviews were bad.\", None, None, None, 3, None, 0, None, None, None, None, None, 0, None, 0, '2025-02-24 07:37:37', '2025-02-24 07:37:37', 1)\n",
      "(59, \"I could cry someone a river. Ik I'll remember and forget this time as well so... I think it's good to have to keep it here that iv been extremely sad and depressed unlike ever before, for the past 2 months. But iv to let it go and get on with life. I'm in the middle with it. I like doing it too so in not too depressed but.. Something deep inside seems to have shut down telling me it's down temporarily. But it's been a while and I'm still not feeling normal.\", None, None, None, None, 3, None, 0, None, None, None, None, None, 0, None, 0, '2025-02-24 07:37:37', '2025-02-24 07:37:37', 1)\n",
      "(60, 'Pack a night before', None, None, None, None, 3, None, 0, None, None, None, None, None, 0, None, 0, '2025-02-24 07:37:37', '2025-02-24 07:37:37', 1)\n",
      "(61, 'Bus rides are better in middle window seats', None, None, None, None, 3, None, 0, None, None, None, None, None, 0, None, 0, '2025-02-24 07:37:37', '2025-02-24 07:37:37', 1)\n",
      "(62, 'Remember to take kids to every sports match in vicinity', None, None, None, None, 3, None, 0, None, None, None, None, None, 0, None, 0, '2025-02-24 07:37:37', '2025-02-24 07:37:37', 1)\n",
      "(63, 'Add book names from screenshot', None, None, None, None, 3, None, 0, None, None, None, None, None, 0, None, 0, '2025-02-24 07:37:37', '2025-02-24 07:37:37', 1)\n",
      "(64, \"I was remembering my talks with her and was quite happy when it suddenly hit me like driving and hitting a bad puddle, that this is wrong, I can't remember her anymore. Not when. I'm sorry. But ig I gave myself enough time, and now finally yesterday enough was enough for me.\", None, None, None, None, 3, None, 0, None, None, None, None, None, 0, None, 0, '2025-02-24 07:37:37', '2025-02-24 07:37:37', 1)\n",
      "(65, 'Ds project circketers and their children timing vs averages', None, None, None, None, 3, None, 0, None, None, None, None, None, 0, None, 0, '2025-02-24 07:37:37', '2025-02-24 07:37:37', 1)\n",
      "(66, \"I haven't done any legendary shit in a long time. Iv done things here and there sure, but a long test kinda stint hasn't been done in a while. Gotta do sth.\", None, None, None, None, 3, None, 0, None, None, None, None, None, 0, None, 0, '2025-02-24 07:37:37', '2025-02-24 07:37:37', 1)\n",
      "(67, 'I have a strong urge to pour myself into something.', None, None, None, None, 3, None, 0, None, None, None, None, None, 0, None, 0, '2025-02-24 07:37:37', '2025-02-24 07:37:37', 1)\n",
      "(68, 'It sure is fun to suffer', None, None, None, None, 3, None, 0, None, None, None, None, None, 0, None, 0, '2025-02-24 07:37:37', '2025-02-24 07:37:37', 1)\n",
      "(69, 'When you explain try to make most statements with the pretense that it is obvious to the student. Make small statements which the student already knows or can infer easily. Then lead them to larger conclusions slowly, preferably themselves.', None, None, None, None, 3, None, 0, None, None, None, None, None, 0, None, 0, '2025-02-24 07:37:37', '2025-02-24 07:37:37', 1)\n",
      "(70, 'My kids will come first man. Always. Before my grudges and insecurities and ego.', None, None, None, None, 3, None, 0, None, None, None, None, None, 0, None, 0, '2025-02-24 07:37:37', '2025-02-24 07:37:37', 1)\n",
      "(71, 'A good way to end videos or long monologues or lectures or anything is to end with hope. There is a lot you can explore to do. Keep your eyes open, be creative. There is a lot of scope. You can all do whatever u want. Ur free. Let there be a feeling akin to one that a sailor feels on the end of a beach, and hopefully uv provided them with a ship in the lecture ur ending. Or uv led them to it somewhere.', None, None, None, None, 3, None, 0, None, None, None, None, None, 0, None, 0, '2025-02-24 07:37:37', '2025-02-24 07:37:37', 1)\n",
      "(72, \"If you feel like doing some activity or thinking of someone while having lunch or dinner or b4 u sleep and wake up then know ur addicted to something or someone. Time to take a step back. It's allowed but in very few cases and you must be careful\", None, None, None, None, 3, None, 0, None, None, None, None, None, 0, None, 0, '2025-02-24 07:37:37', '2025-02-24 07:37:37', 1)\n",
      "(73, \"The way that I use and enjoy using a computer, I'm fkin glad that out of all things that exist in this world I chose this profession. I'm extremely lucky too.\", None, None, None, None, 3, None, 0, None, None, None, None, None, 0, None, 0, '2025-02-24 07:37:37', '2025-02-24 07:37:37', 1)\n",
      "(74, 'Better to document more rigorously regarding setup and stuff.', None, None, None, None, 3, None, 0, None, None, None, None, None, 0, None, 0, '2025-02-24 07:37:37', '2025-02-24 07:37:37', 1)\n",
      "(75, 'I should be a little more calmer than excited', None, None, None, None, 3, None, 0, None, None, None, None, None, 0, None, 0, '2025-02-24 07:37:37', '2025-02-24 07:37:37', 1)\n",
      "(76, \"Here's my golden rule for doing something. If it makes you happy and doesn't hurt anyone, in present or future, do it.\", None, None, None, None, 3, None, 0, None, None, None, None, None, 0, None, 0, '2025-02-24 07:37:37', '2025-02-24 07:37:37', 1)\n",
      "(77, 'When someone tells u of their achievement in literally anything no matter how big or small, just listen to them. Sure you may have a better achievement in that, but keep mum then. Say it later but let them have their moment.', None, None, None, None, 3, None, 0, None, None, None, None, None, 0, None, 0, '2025-02-24 07:37:37', '2025-02-24 07:37:37', 1)\n",
      "(78, 'Sort and name the audio recordings from phone as well', None, None, None, None, 3, None, 0, None, None, None, None, None, 0, None, 0, '2025-02-24 07:37:37', '2025-02-24 07:37:37', 1)\n",
      "(79, \"I don't think I could have predicted that the friend I'd keep Contact with the longest in my life after school would be aasim. Not megha, not rohit. None of my so many friends. Aasim\", None, None, None, None, 3, None, 0, None, None, None, None, None, 0, None, 0, '2025-02-24 07:37:37', '2025-02-24 07:37:37', 1)\n",
      "(80, \"Choose the slowest encoding each time. A little more time now for somethings that's gonna stay in the shelf for years.\", None, None, None, None, 3, None, 0, None, None, None, None, None, 0, None, 0, '2025-02-24 07:37:37', '2025-02-24 07:37:37', 1)\n",
      "(81, \"I don't generally get addicted to anything. It's a thing. Apparently while being raised I was shown extreme disgust towards gambling and addiction by Mom. This left a lasting impression on me for which Ill eternally be grateful to her. Due to that Iv always developed high will power, so much that it doesn't even take effort for me to say no to sth. On top of that, my brain and body naturally have no mechanism for getting used to sth. I even forget to brush and I don't even realise it sometimes.\", \"I don't generally get addicted to anything. It's a thing. Apparently while being raised I was shown extreme disgust towards gambling and addiction by Mom. This left a lasting impression on me for which Ill eternally be grateful to her. Due to that Iv always developed high will power, so much that it doesn't even take effort for me to say no to sth. On top of that, my brain and body naturally have no mechanism for getting used to sth. I even forget to brush and I don't even realise it sometimes. I forget milk in the morning and don't realize it. 20 years and still I don't get used to these things. So Im quite happy by thr fact that I don't get addicted. If I was I'd always be the first to accept it to myself. And so here it goes. Every time I think of something very touching or deep or painful, my hand auto-fucking-matically goes looking for my phone in my pocket. Like bruh. My phone doesn't even have to be there and my hand just goes. That's a habit right there. That I gotta stop.\", None, None, None, 3, None, 0, None, None, None, None, None, 0, None, 0, '2025-02-24 07:37:37', '2025-02-24 07:37:37', 1)\n",
      "(82, 'I gotta say this note taking adhoc way has definitely drastically increased my output for writing. Great luck there. Fidgeting around with widgets I found this one. Very useful. Started off as place to keep some basic cash give take transactions. Now increased a lot. 300 almost now. Gotta sort. Looking forward to put this in notion.', None, None, None, None, 3, None, 0, None, None, None, None, None, 0, None, 0, '2025-02-24 07:37:37', '2025-02-24 07:37:37', 1)\n",
      "(83, \"Remember that thing about how I said I wanna do a lot but I'm not able to bring myself to do anything coz of lazyness but due to what seems like something other than lazyness? It reduced but I definitely see it. I'm motivated to do so much and yet when I get time i think I'm doing very little. But in general sometimes I feel like I'm doing a lot. And it I don't work or finish a story at work i suddenly feel like Im good for nothing the mood swings are too bad. Idek why.\", None, None, None, None, 3, None, 0, None, None, None, None, None, 0, None, 0, '2025-02-24 07:37:37', '2025-02-24 07:37:37', 1)\n",
      "(84, 'I feel like my brain has become this overused brush. Just completely mauled but it works. Iv overthought and overthought too much.', None, None, None, None, 3, None, 0, None, None, None, None, None, 0, None, 0, '2025-02-24 07:37:37', '2025-02-24 07:37:37', 1)\n",
      "(85, 'Mdc - Apm - Test big files - Query explain plans - Devbox', None, None, None, None, 3, None, 0, None, None, None, None, None, 0, None, 0, '2025-02-24 07:37:37', '2025-02-24 07:37:37', 1)\n",
      "(86, \"Cut off her wings - I'm a lazy piece of shit - I wanna survive at 300 rs a day alone - I wanna hurt myself physically - I'm rotten - Don't listen to me - I'm spiralling forget all this\", None, None, None, None, 3, None, 0, None, None, None, None, None, 0, None, 0, '2025-02-24 07:37:37', '2025-02-24 07:37:37', 1)\n",
      "(87, \"Another good way to check if you wanna buy something is to wait for the second excitement. The first excitement is what we feel at the thought of buying or getting something. It has a tendency to appear and disappear. If acted upon the first time it may make you regret your choice. Note ur excitement. Wait for a few days and see if it maintains itself, or repeats itself. Then buy it. Sure it's like suppressing ur desire for a while, but wise spending and saving is said to be tough for a reason\", None, None, None, None, 3, None, 0, None, None, None, None, None, 0, None, 0, '2025-02-24 07:37:37', '2025-02-24 07:37:37', 1)\n",
      "(88, \"I think it's a freaking superpower to be able to calmly talk to yourself or anyone. To be able to very calmly say the most atrocious or the most beautiful things. It helps you in thinking logically and make decisions a lot.\", None, None, None, None, 3, None, 0, None, None, None, None, None, 0, None, 0, '2025-02-24 07:37:37', '2025-02-24 07:37:37', 1)\n",
      "(89, 'Check out making a nas out of ThinkPad laptop. Could as our hard drive and all those usbs. Try next cloud.', None, None, None, None, 3, None, 0, None, None, None, None, None, 0, None, 0, '2025-02-24 07:37:37', '2025-02-24 07:37:37', 1)\n",
      "(90, 'You can explore mutual fund apis. Some pipelines or dashboards there.', None, None, None, None, 3, None, 0, None, None, None, None, None, 0, None, 0, '2025-02-24 07:37:37', '2025-02-24 07:37:37', 1)\n",
      "(91, 'Haha. Some days everything is good. Every aspect of the future seems good. And exciting. Everything is good.', None, None, None, None, 3, None, 0, None, None, None, None, None, 0, None, 0, '2025-02-24 07:37:37', '2025-02-24 07:37:37', 1)\n",
      "(92, 'More emphasis over the whole beautiful things going to shit theory. Sucks. Saw a lot of examples.', None, None, None, None, 3, None, 0, None, None, None, None, None, 0, None, 0, '2025-02-24 07:37:37', '2025-02-24 07:37:37', 1)\n",
      "(93, 'Last monthly ppt make it good. Use manim', None, None, None, None, 3, None, 0, None, None, None, None, None, 0, None, 0, '2025-02-24 07:37:37', '2025-02-24 07:37:37', 1)\n",
      "(94, 'When someone asks you to do something on priority really do assign it as priority and finish it that day.', None, None, None, None, 3, None, 0, None, None, None, None, None, 0, None, 0, '2025-02-24 07:37:37', '2025-02-24 07:37:37', 1)\n",
      "(95, 'Small pr still. Few lines only. Iv done this mistake enough and more times.', None, None, None, None, 3, None, 0, None, None, None, None, None, 0, None, 0, '2025-02-24 07:37:37', '2025-02-24 07:37:37', 1)\n",
      "(96, 'I gotta think more clearly about the manim explainer video and using it and becoming like Grant. Damn', None, None, None, None, 3, None, 0, None, None, None, None, None, 0, None, 0, '2025-02-24 07:37:37', '2025-02-24 07:37:37', 1)\n",
      "(97, 'Make sure to install sth like soñar cloud analysis', None, None, None, None, 3, None, 0, None, None, None, None, None, 0, None, 0, '2025-02-24 07:37:37', '2025-02-24 07:37:37', 1)\n",
      "(98, 'Add learnings in mf', None, None, None, None, 3, None, 0, None, None, None, None, None, 0, None, 0, '2025-02-24 07:37:37', '2025-02-24 07:37:37', 1)\n",
      "(99, \"Go ahead and write that script. Don't ever hesitate to write scripts. Never throw them away.\", None, None, None, None, 3, None, 0, None, None, None, None, None, 0, None, 0, '2025-02-24 07:37:37', '2025-02-24 07:37:37', 1)\n",
      "(100, 'Learn about sync async properly', None, None, None, None, 3, None, 0, None, None, None, None, None, 0, None, 0, '2025-02-24 07:37:37', '2025-02-24 07:37:37', 1)\n",
      "(101, 'Save ideas internship related things. Even the scripts.', None, None, None, None, 3, None, 0, None, None, None, None, None, 0, None, 0, '2025-02-24 07:37:37', '2025-02-24 07:37:37', 1)\n",
      "(102, 'Every single fucking thing in my life good or bad is somehow associated with her man how tf do I stop thinking of this woman.', None, None, None, None, 3, None, 0, None, None, None, None, None, 0, None, 0, '2025-02-24 07:37:37', '2025-02-24 07:37:37', 1)\n",
      "(103, \"If you make a wrong decision, or two, do not label urself. Don't give yourself or even anyone else for that matter, that label and inertia to keep going. Let it remain a one or 2 time thing.\", None, None, None, None, 3, None, 0, None, None, None, None, None, 0, None, 0, '2025-02-24 07:37:37', '2025-02-24 07:37:37', 1)\n",
      "(104, \"It's good to periodically visit possible events that if happened would literally crumble your knees. I'm saying this coz if I lost my phone that's what and how I'd have to react. I'd literally have to sit down in the place I'm standing coz not only would I lose 35k but also these 600 todos, those 35k can be recovered but these thoughts, prolly not. A lot of invaluable things are associated with my phone and I just carry it around like nothing.\", \"Coz I'm not that kinda person who can stress out and take insane care of everything. I use things freely. I don't like to worry constantly. I don't either. Instead I'll spread that risk even somehow.\", None, None, None, 3, None, 0, None, None, None, None, None, 0, None, 0, '2025-02-24 07:37:37', '2025-02-24 07:37:37', 1)\n",
      "(105, 'Gotta refractor resume. Give yourself points at how good you are at what.', None, None, None, None, 3, None, 0, None, None, None, None, None, 0, None, 0, '2025-02-24 07:37:37', '2025-02-24 07:37:37', 1)\n",
      "(106, 'Learn fucking basic java and sprint boot configure and complication and shit and beans and shit.', None, None, None, None, 3, None, 0, None, None, None, None, None, 0, None, 0, '2025-02-24 07:37:37', '2025-02-24 07:37:37', 1)\n",
      "(107, \"When there are a lot of files changed or lot of merge requests or lot of anything. Think and do it. Don't just let it all go. - If I continue anything in life this may be of use.\", None, None, None, None, 3, None, 0, None, None, None, None, None, 0, None, 0, '2025-02-24 07:37:37', '2025-02-24 07:37:37', 1)\n",
      "(108, \"Rememver and write about how I felt today how idc about literally anything. About hitting other vehicles shit at work. It all affects me. But idc. This guy Harry. Put all the screws on me. The moment I don't work there it all comes. I'm too fkin sensitive and a baby for this. But it is what it is. This was around when I heard I would need 2 scrum meetings for me alone\", None, None, None, None, 3, None, 0, None, None, None, None, None, 0, None, 0, '2025-02-24 07:37:37', '2025-02-24 07:37:37', 1)\n",
      "(109, 'Learn about final and shit in java', None, None, None, None, 3, None, 0, None, None, None, None, None, 0, None, 0, '2025-02-24 07:37:37', '2025-02-24 07:37:37', 1)\n",
      "(110, \"If I could get over and forget an addiction as big as megha, trust me, I can get over anything. If I could do this, there's nothing I can't do. Literally nothing is gonna be harder than this. This is what I said when I shifted from Qatar too. But hey.\", None, None, None, None, 3, None, 0, None, None, None, None, None, 0, None, 0, '2025-02-24 07:37:37', '2025-02-24 07:37:37', 1)\n",
      "(111, \"You try your best. Just try. Try the best you can that you want. You may know of some global maximas that have done something similar to what you did or wanna do, but if you try, you become a local maxima and every global maxima was once a local one. I'm saying this coz there are many things we think would be great but we don't do them coz it's not unique. It won't be that good. Say it's a cliche science project or a career choice.\", \"A book, a story a poem, a piece of software or a generic product. Try it. It may end up being your best work in hindsight. That has happened with me. So don't let commonality stop you.\", None, None, None, 3, None, 0, None, None, None, None, None, 0, None, 0, '2025-02-24 07:37:37', '2025-02-24 07:37:37', 1)\n",
      "(112, 'When ur doing something well, good, and better than the next person, be quiet about it. Even when asked.', None, None, None, None, 3, None, 0, None, None, None, None, None, 0, None, 0, '2025-02-24 07:37:37', '2025-02-24 07:37:37', 1)\n",
      "(113, \"Just started mega camera uploads. I wonder why I never used this before. Cam stuff is secured now due to cloud sync and it's even easier to transfer now. 20 gb was free now let's use it.\", None, None, None, None, 3, None, 0, None, None, None, None, None, 0, None, 0, '2025-02-24 07:37:37', '2025-02-24 07:37:37', 1)\n",
      "(114, 'All my devices are now staying charged due to the bed cables. Great improvement.', None, None, None, None, 3, None, 0, None, None, None, None, None, 0, None, 0, '2025-02-24 07:37:37', '2025-02-24 07:37:37', 1)\n",
      "(115, 'Things to do after getting a job and first salary. Replace black wires with real ones. Get a 34 inch monitor. Great speaker with subwoofers. Get another 150 rs connector box for extension cable. Get led strip lights 5 m for desk.', None, None, None, None, 3, None, 0, None, None, None, None, None, 0, None, 0, '2025-02-24 07:37:37', '2025-02-24 07:37:37', 1)\n",
      "(116, \"There's a lot of hardwork due in the next few months. They gonna be packed asf. I'm prepping for that.\", None, None, None, None, 3, None, 0, None, None, None, None, None, 0, None, 0, '2025-02-24 07:37:37', '2025-02-24 07:37:37', 1)\n",
      "(117, \"Gosh. Imagine working for 2 whole years, and then getting an increment of 2 lpa upto 13. I had an offer for 14. All this while my friends can get 16. For which I'll have to work for 4 more years? WOW. OR I WORK HARD FOR THE NEXT FEW MONTHS AND GET A GOOD STARTING OFFER IN FUCKING FREAKING PLACE\", None, None, None, None, 3, None, 0, None, None, None, None, None, 0, None, 0, '2025-02-24 07:37:37', '2025-02-24 07:37:37', 1)\n",
      "(118, 'Buy more of that orange carry bag', None, None, None, None, 3, None, 0, None, None, None, None, None, 0, None, 0, '2025-02-24 07:37:37', '2025-02-24 07:37:37', 1)\n",
      "(119, 'One of the saddest experiences in life is to watch something beautiful, wither away out of existance, or turn to something awful, slowly at first, and then all at once.', None, None, None, None, 3, None, 0, None, None, None, None, None, 0, None, 0, '2025-02-24 07:37:37', '2025-02-24 07:37:37', 1)\n",
      "(120, \"I don't get it, every single time I mention about earning or my kids anyone hearing me just tells me iv thought of too far. Like yeah I mean it's surprising to me others haven't? Idk do people really never think of this? Why u dating then?\", None, None, None, None, 3, None, 0, None, None, None, None, None, 0, None, 0, '2025-02-24 07:37:37', '2025-02-24 07:37:37', 1)\n",
      "(121, 'Do the classmate thing for clarity Bois and gift them too. For mom and dad I can do a collage of my pics and fam pics and for mom I can use the Nokia pic', None, None, None, None, 3, None, 0, None, None, None, None, None, 0, None, 0, '2025-02-24 07:37:37', '2025-02-24 07:37:37', 1)\n",
      "(122, \"I wanna learn a tonnnne about database design. Like become a real expert in it. And use a lot more docker. I also wanna do more system design. This is all pure backend code. It's fun when there are db issues. Data science is fun too no doubt.. But now that I see this I think learning this well be really interesting. I gotta find time I mean. Can't work like this now.\", None, None, None, None, 3, None, 0, None, None, None, None, None, 0, None, 0, '2025-02-24 07:37:37', '2025-02-24 07:37:37', 1)\n",
      "(123, 'Also I wanna start using java in vs code. Like I wanna see if I can run cruiserms in vs code. Can it be just as easy after some effort? I wanna get into the actual running commands this way.', None, None, None, None, 3, None, 0, None, None, None, None, None, 0, None, 0, '2025-02-24 07:37:37', '2025-02-24 07:37:37', 1)\n",
      "(124, \"My dreams and the following hallucinations got pretty bad I get them rarely but the hunger definitely seems to be accelerating them. Sadness definitely is a nice icing on top. A pinch of cold and sore throat, and we've got ourselves a nice and scary episode of pain filled drama. My throat was burning today somewhere around 630 which is when I woke up. I wasnt able to run a query in a file. Every time I opened the file it burned a lot. So I showed the error to harry and my team and they could\", \"My dreams and the following hallucinations got pretty bad today. I get them rarely but the hunger definitely seems to be accelerating them. Sadness definitely is a nice icing on top. A pinch of cold and sore throat, and we've got ourselves a nice and scary episode of pain filled drama. My throat was burning today somewhere around 630 which is when I woke up. I wasnt able to run a query in a file. Every time I opened the file it burned a lot. So I showed the error to harry and my team and they could run it happily. I was the only one. I thought it was some bug. And I was baffled as to how to proceed. I couldn't fix the burning which I thought was due to some error.\\n\\nEventually I woke up and changed the direction in which I slept hoping to fix the bug, still in the dream somehow. Then I woke up some time later.\\n\\nIntense memory persists. Weird dream.\", None, None, None, 3, None, 0, None, None, None, None, None, 0, None, 0, '2025-02-24 07:37:37', '2025-02-24 07:37:37', 1)\n",
      "(125, 'I gotta learn databases and also indexing, write a goddamn docker Container for all of these and start putting together a framework or organization place for the links of these in my teaching framework kinda thing. Start populating those tables.', None, None, None, None, 3, None, 0, None, None, None, None, None, 0, None, 0, '2025-02-24 07:37:37', '2025-02-24 07:37:37', 1)\n",
      "(126, 'Think about the how ull feel like in 10 10 10 mins days years thingy', None, None, None, None, 3, None, 0, None, None, None, None, None, 0, None, 0, '2025-02-24 07:37:37', '2025-02-24 07:37:37', 1)\n",
      "(127, \"Waking up early sure has its benefits. I think ironing post bath could be a nice addition to the routine. Some 10 Surya Namaskars, some sit ups, squats and push ups with a minute plank before bath should take some 30 minutes. But imagine how much better I'd feel. How much longer the day would feel. I'd have to wake up at 6 or 630. It's a seriously good feeling trust me. Never have I woken up early and regretted it. On the contrary waking up late dreads your day.\", None, None, None, None, 3, None, 0, None, None, None, None, None, 0, None, 0, '2025-02-24 07:37:37', '2025-02-24 07:37:37', 1)\n",
      "(128, 'I had no idea I can tear up within a fraction of a second upon one trigger. Found out today. Damn', None, None, None, None, 3, None, 0, None, None, None, None, None, 0, None, 0, '2025-02-24 07:37:37', '2025-02-24 07:37:37', 1)\n",
      "(129, \"Coz its not just disappointment but like u know it's going to shit. But it still hasn't lost its beauty, and every day it becomes worse until one day you realize that it, along with its beauty are gone.Like If a graph decreases by a whole number x you can be like it went down, but when it decreases by dx, you don't realize until lots of dx have gone by, and integral of that dx is the beauty you just lost\", None, None, None, None, 3, None, 0, None, None, None, None, None, 0, None, 0, '2025-02-24 07:37:37', '2025-02-24 07:37:37', 1)\n",
      "(130, \"It's possible to know almost every line of a decent sized codebase. Learnt from chirag agrawal.\", None, None, None, None, 3, None, 0, None, None, None, None, None, 0, None, 0, '2025-02-24 07:37:37', '2025-02-24 07:37:37', 1)\n",
      "(131, 'Make a trilogy meter chart based on ratings. Interesting project. Man I wanna do so many of these personal projects. They just seem too mu h of a waste of time.', None, None, None, None, 3, None, 0, None, None, None, None, None, 0, None, 0, '2025-02-24 07:37:37', '2025-02-24 07:37:37', 1)\n",
      "(132, \"Don't speed behind a speeding car in a small width lane coz if the car break checks u, there's nowhere to go.\", None, None, None, None, 3, None, 0, None, None, None, None, None, 0, None, 0, '2025-02-24 07:37:37', '2025-02-24 07:37:37', 1)\n",
      "(133, 'Think of getting certified by scrum', None, None, None, None, 3, None, 0, None, None, None, None, None, 0, None, 0, '2025-02-24 07:37:37', '2025-02-24 07:37:37', 1)\n",
      "(134, \"At the end of scrum it's good to have everyone tell you a message in a format. It's good for documentation.\", None, None, None, None, 3, None, 0, None, None, None, None, None, 0, None, 0, '2025-02-24 07:37:37', '2025-02-24 07:37:37', 1)\n",
      "(135, 'I feel so so deep deep genuine to God pain about this whole megha thing. I miss her a lot when it rains well, and the arom is all around me.', None, None, None, None, 3, None, 0, None, None, None, None, None, 0, None, 0, '2025-02-24 07:37:37', '2025-02-24 07:37:37', 1)\n",
      "(136, \"The classmate book thing I feel really is the perfect gift. I'm thinking of giving it to everyone in the entire family like kids, masis, masas, everyone except bangalore. Then im thinking in the farewell I should give it to everyone in college as well. As in the bois, couple of girls, nd even some good profs. It just seems so worth it. Precious. I have to start with family. If that works well be lit for gifts.\", None, None, None, None, 3, None, 0, None, None, None, None, None, 0, None, 0, '2025-02-24 07:37:37', '2025-02-24 07:37:37', 1)\n",
      "(137, \"I don't feel like myself. I don't feel in a position to give advice, or one of a sorted mind. It's okay but I'm just saying. This isn't how it should be. Or how I should be.\", None, None, None, None, 3, None, 0, None, None, None, None, None, 0, None, 0, '2025-02-24 07:37:37', '2025-02-24 07:37:37', 1)\n",
      "(138, \"When I listen to these songs with saved memories in them, I am reminded of the times I spent while listening to them but a lot of these just don't hit me.\", None, None, None, None, 3, None, 0, None, None, None, None, None, 0, None, 0, '2025-02-24 07:37:37', '2025-02-24 07:37:37', 1)\n",
      "(139, \"If something drastic doesn't change in the next few days.. I don't know if I'll be able to get a job over 10 15 lpa. I gotta apply offline or do sth. Some drastic measures need to be taken.\", None, None, None, None, 3, None, 0, None, None, None, None, None, 0, None, 0, '2025-02-24 07:37:37', '2025-02-24 07:37:37', 1)\n",
      "(140, \"When you spot a pothole, it's always Better to slow down and go through the pot hole, rather than swiftly change lanes or direction in order to avoid it. If ur alone it's okay. Otherwise everyone behind you most prolly won't see the pothole especially at night and won't expect u randomly changing lanes. It can fuck up a lot.\", None, None, None, None, 3, None, 0, None, None, None, None, None, 0, None, 0, '2025-02-24 07:37:37', '2025-02-24 07:37:37', 1)\n",
      "(141, \"If you urself know ur place well, no one will try to show it to you, and if they do you can confidently parry them, or show them theirs. So it's a good lesson to know ur place in any room. Behave accordingly. Don't under or over sell urself. Portray confidence accordingly.\", None, None, None, None, 3, None, 0, None, None, None, None, None, 0, None, 0, '2025-02-24 07:37:37', '2025-02-24 07:37:37', 1)\n",
      "(142, \"Most things megha related I suppress quite well now. I don't even feel them, just a tinge, but I was riding and alone for around 1.5 hours.. And sort of missing having someone with me as I was listening to songs, idk maybe daksh or parth or anyone. Usually parth was with me all those 2 years in college before that was Satyam. There was always someone to talk to in those long rides. If not it was megha at signals... So while I enjoy the rides alone, occasionally I miss having someone...\", \"And this is when I was deeply reminded of Megha and how she did.. Find someone. I couldn't tell you how deeply it hurt. Instantly I sinched. But the constant suppressing has made it such that the feeling quickly passes. Its like some sad thing behind a door. I know it's there and I just don't open the door. Iv kept the door open for a long while and now it's time to ignore it. But... Fuck.\", None, None, None, 3, None, 0, None, None, None, None, None, 0, None, 0, '2025-02-24 07:37:37', '2025-02-24 07:37:37', 1)\n",
      "(143, 'I wanna go home and run nice ubuntu on my laptop. Or arch. Just me and the terminal.', None, None, None, None, 3, None, 0, None, None, None, None, None, 0, None, 0, '2025-02-24 07:37:37', '2025-02-24 07:37:37', 1)\n",
      "(144, \"I'm good at managing a hundred different things at once. Managing it all. It's only when even one of them gets personal that I almost collapse. As long as it's not personal I'm fkin great at multi task in.\", None, None, None, None, 3, None, 0, None, None, None, None, None, 0, None, 0, '2025-02-24 07:37:37', '2025-02-24 07:37:37', 1)\n",
      "(145, 'when someone appreciates you, dont do anything to further increase that spirit, or decrease it. just leave things be for the day. dont try to make it better, or make them appreciate you more, dont stretch it. just let it be. dont take advantage of it. dont do anything stupid either. let anyone who appreciated you, sleep over it without any nooks and crannies. put your head down and accept it. its just something iv learnt, not by too much experience, but i can see it going this way', None, None, None, None, 3, None, 0, None, None, None, None, None, 0, None, 0, '2025-02-24 07:37:37', '2025-02-24 07:37:37', 1)\n",
      "(146, 'Why November gotta be like this full of memories', None, None, None, None, 3, None, 0, None, None, None, None, None, 0, None, 0, '2025-02-24 07:37:37', '2025-02-24 07:37:37', 1)\n",
      "(147, 'When you really wanna not miss recording something, please, use 2 devices. 😔 I literally have 2 pones', None, None, None, None, 3, None, 0, None, None, None, None, None, 0, None, 0, '2025-02-24 07:37:37', '2025-02-24 07:37:37', 1)\n",
      "(148, 'If you wanna get good at something, track it', None, None, None, None, 3, None, 0, None, None, None, None, None, 0, None, 0, '2025-02-24 07:37:37', '2025-02-24 07:37:37', 1)\n",
      "(149, \"When you delete some code, make sure to deal with it's dependencies as well\", None, None, None, None, 3, None, 0, None, None, None, None, None, 0, None, 0, '2025-02-24 07:37:37', '2025-02-24 07:37:37', 1)\n",
      "(150, \"If someones 80 percent there, but not enough, don't tell them they are not enough, specify to them they are 80 percent there instead of keeping them in the dark\", None, None, None, None, 3, None, 0, None, None, None, None, None, 0, None, 0, '2025-02-24 07:37:37', '2025-02-24 07:37:37', 1)\n",
      "(151, \"The most improvement happens in practice where you don't realise where the time has gone by.\", None, None, None, None, 3, None, 0, None, None, None, None, None, 0, None, 0, '2025-02-24 07:37:37', '2025-02-24 07:37:37', 1)\n",
      "(152, 'Long', \"Every time I listen to some songs, some things, some events and some memories remind me of megha. I still sometimes cherish our relationship. Even now. Despite not wanting to. But it feels wrong to me. Its like I was taught man. If ur single, You can think romantically of a single girl, sure. Of someone who is with someone else tho? No. Social status of their relationship doesn't matter. If you see that she likes someone, then it's wrong to keep thinking about her. It's wrong to put an eye on someone else's person, just as it is on their property. If ur married, then it's wrong to think of anyone. Thoughts come to each and every one of us. But if ur taught this, it'll feel wrong. Which is good. It defines boundaries. It reduces many issues in many relationships. But with me and her.. It was too deep rooted in me man. Every association of love was attached to her in some way. Anytime I feel too touched, adjacent to her lie her memories and so they get triggered. Even if it's just a good song. But yeah, it's wrong, she's with someone else now. She doesn't accept it sure, but as far as I'm concerned it's what it is. Eso si que es. Je che e che. Jo hai so hai. So I'll phase these thoughts out eventually..\", None, None, None, 3, None, 0, None, None, None, None, None, 0, None, 0, '2025-02-24 07:37:37', '2025-02-24 07:37:37', 1)\n",
      "(153, \"Iv been the guy to break all rules, drive on footpaths just to get ahead. Even at the expense of my scooter and it's tyre and rear view mirrors and dashing other vehicles. Iv also been the guy who patiently shuts down the scooter and waits in traffic while I see people like me go past me. Iv been happy in both scenarios. Rn I'm in the latter one, Iv experienced a lot of the former. I noticed this so I'm writing it down.\", None, None, None, None, 3, None, 0, None, None, None, None, None, 0, None, 0, '2025-02-24 07:37:37', '2025-02-24 07:37:37', 1)\n",
      "(154, \"A fun thing as a teacher in my first lecture would be to challenge the students to make me angry. This would encourage them to ask me dumb questions. Do stupid things. Share stuff that they be afraid to. I will make it very clear that I don't have a temper and the only thing I won't tolerate is lies.\", None, None, None, None, 3, None, 0, None, None, None, None, None, 0, None, 0, '2025-02-24 07:37:37', '2025-02-24 07:37:37', 1)\n",
      "(155, \"Now that iv seen people in my office, many of them, I think in the new workplace I may be able to find out my kinda people. Arun is definitely of my kind, and coz iv worked with him and Sunanda, if I imagine myself being interviewed by these guys, I'd be very happy. So I'll know from now on what kinda people I can happily work for, now that I know they exist.\", None, None, None, None, 3, None, 0, None, None, None, None, None, 0, None, 0, '2025-02-24 07:37:37', '2025-02-24 07:37:37', 1)\n",
      "(156, \"insert work are good now last time that happened it became bad afterwards so now that it's happening again I didn't know last time but I think I can collect or at least prepare for it this time it may not get bad but still I have atleast good idea\", None, None, None, None, 3, None, 0, None, None, None, None, None, 0, None, 0, '2025-02-24 07:37:37', '2025-02-24 07:37:37', 1)\n",
      "(157, 'Watch prison break with commentary', None, None, None, None, 3, None, 0, None, None, None, None, None, 0, None, 0, '2025-02-24 07:37:37', '2025-02-24 07:37:37', 1)\n",
      "(158, 'Think about writing what I did throughout the day which makes scrum easier. Maybe I should document this well too.', None, None, None, None, 3, None, 0, None, None, None, None, None, 0, None, 0, '2025-02-24 07:37:37', '2025-02-24 07:37:37', 1)\n",
      "(159, 'Write the technical learnings from Exp professional is diff.', None, None, None, None, 3, None, 0, None, None, None, None, None, 0, None, 0, '2025-02-24 07:37:37', '2025-02-24 07:37:37', 1)\n",
      "(160, \"If things are going well I'll switch to arch in December on my laptop for work and personal use. I miss it too much, and yes, I'm considering installing it on my pc too with dual boot. Just to get a feel of things. Maybe after the cpu motherboard bios update.\", None, None, None, None, 3, None, 0, None, None, None, None, None, 0, None, 0, '2025-02-24 07:37:37', '2025-02-24 07:37:37', 1)\n",
      "(161, 'Should prolly make a habit of speaking less.', None, None, None, None, 3, None, 0, None, None, None, None, None, 0, None, 0, '2025-02-24 07:37:37', '2025-02-24 07:37:37', 1)\n",
      "(162, 'Should prolly make a habit of talking to chat gpt', None, None, None, None, 3, None, 0, None, None, None, None, None, 0, None, 0, '2025-02-24 07:37:37', '2025-02-24 07:37:37', 1)\n",
      "(163, \"Should probably start time boxing, I mean i never realized it but schools and colleges worked well and very efficiently Coz of timetables. Where would we be without them? Offices can't coz work is very flexible but this seems like a good way. Iv done it before and have been very successful. It's proper discipline but... Maybe I gotta try it if I really wanna do the things I wanna do.\", None, None, None, None, 3, None, 0, None, None, None, None, None, 0, None, 0, '2025-02-24 07:37:37', '2025-02-24 07:37:37', 1)\n",
      "(164, 'Ig when ur doing something you love you never are afraid of falling behind. Things are natural and u got what you wanted.', None, None, None, None, 3, None, 0, None, None, None, None, None, 0, None, 0, '2025-02-24 07:37:37', '2025-02-24 07:37:37', 1)\n",
      "(165, \"Get cool things like solar operatee watches or stuff that doesn't need maintainence and just works. That's my kinda stuff. It's also why I love the Nokia. I like buying things like these. I'll buy more and more of these. When I have more money. My jacket too. Even my mattress. My chair. Desk. A lot of it is built naturally like how I like it. No maintainence. Rugged asf. Not cheap. But looks good. Great functionality.\", None, None, None, None, 3, None, 0, None, None, None, None, None, 0, None, 0, '2025-02-24 07:37:37', '2025-02-24 07:37:37', 1)\n",
      "(166, 'Talk about the ideas office intro ideas with zeel in next meeting', None, None, None, None, 3, None, 0, None, None, None, None, None, 0, None, 0, '2025-02-24 07:37:37', '2025-02-24 07:37:37', 1)\n",
      "(167, \"I cannot highlight enough the importance of starting every concept with a story in class. It's beautiful.\", None, None, None, None, 3, None, 0, None, None, None, None, None, 0, None, 0, '2025-02-24 07:37:37', '2025-02-24 07:37:37', 1)\n",
      "(168, \"It's the easily accessible, simple, direct, hassle free and unrestricted option that works best\", None, None, None, None, 3, None, 0, None, None, None, None, None, 0, None, 0, '2025-02-24 07:37:37', '2025-02-24 07:37:37', 1)\n",
      "(169, 'Long', \"Do something with the prime intention of serving the purpose that thing was meant to serve. You can have secondary intentions, sure, but make sure the primary one is the reason that thing exists. If not, then don't do that thing. And this is a principle we can try to live by ig. It'll result in you doing things naturally, and will make you stand out. Things will automatically fall into place coz you chose the natural path.\\n\\nEg. Learn complex vocabulary to express yourself better. Not to brag over others with language. Sure, it's a plus that it'll sound impressive, do it for that too, but 80% of your reason should be better communication, which is why those words exist. Use them. Learn a language to actually use it in either reading literature of that language, watching it's shows and movies or best to talk to someone in it. Not just to add a new skill to your resume. Learn about operating systems, to better deal with operating systems, or to learn about something that fascinates you, not for clearing Gate. Yeah sure learn for that too, but it'll show when you talk about it. None of these are wrong, but there's a difference in what I prefer. Former will make you stick to natural. Latter will suck the beauty out of it. Sometimes it worth it. Assess the tradeoff. Read a book to enjoy the book not to add reading as a hobby on your intro speech. Watch a movie or show coz its fun for you, not coz its what's viral rn. Use an app coz u need it, not coz others are also using it. \\n\\n\\nNote : hobbies are exceptions to this, coz they by definition are things you do for fun. They don't have to make sense. But in a way the rule follows there too, have hobbies to have fun, not for an ulterior motive to blend in, or make friends, or show off. Sure, do those things too, but most of your reason has to be to have fun. That's what hobbies are meant for.\", None, None, None, 3, None, 0, None, None, None, None, None, 0, None, 0, '2025-02-24 07:37:37', '2025-02-24 07:37:37', 1)\n",
      "(170, 'Add the civilization quote', None, None, None, None, 3, None, 0, None, None, None, None, None, 0, None, 0, '2025-02-24 07:37:37', '2025-02-24 07:37:37', 1)\n",
      "(171, 'Get started on the debugging and then the crime solving framework', None, None, None, None, 3, None, 0, None, None, None, None, None, 0, None, 0, '2025-02-24 07:37:37', '2025-02-24 07:37:37', 1)\n",
      "(172, 'Never get too comfy in tech. Aarav taught me. Made me think I gotta leetcode too. - Good to stay in touch. But more importantly we have to never lose the spark. Never stop coding. Always maintain your usp. -  - For 10 15 years anyway, coz after that we gotta be a teacher. And we have to do research.', None, None, None, None, 3, None, 0, None, None, None, None, None, 0, None, 0, '2025-02-24 07:37:37', '2025-02-24 07:37:37', 1)\n",
      "(173, 'Write about how I was gonna let me kids experience small and humble beginnings first in terms of all technology so they learn to value it.', None, None, None, None, 3, None, 0, None, None, None, None, None, 0, None, 0, '2025-02-24 07:37:37', '2025-02-24 07:37:37', 1)\n",
      "(174, 'Poem office', \"From the day I have been employed\\nIv been all happy sad and over joyed\\nThis Monday no matter how much I try to avoid\\nI run out of milk and find myself annoyed\\n\\nFrom the day I have been employed\\nIv been waiting for my code to be deployed\\nIv tried to focus, concentrate and think,\\nBut with the noise around me I find myself annoyed\\n\\nBut hey, I Can't give up nor can I ignore\\nI need a solution, or something more\\nA moment of thought chimes my brain\\nAll I had to do was change the floor!\\n\\nI learnt that we have to change\\nIf problems go out of our range,\\nAt the end I was satisfied\\nBut only because of first I tried.\", None, None, None, 3, None, 0, None, None, None, None, None, 0, None, 0, '2025-02-24 07:37:37', '2025-02-24 07:37:37', 1)\n",
      "(175, 'Never be hasty in deleting anything', None, None, None, None, 3, None, 0, None, None, None, None, None, 0, None, 0, '2025-02-24 07:37:37', '2025-02-24 07:37:37', 1)\n",
      "(176, 'When you make a flow, make sure to keep it as simple as possible. That way it catches on. In anything code or real life.', None, None, None, None, 3, None, 0, None, None, None, None, None, 0, None, 0, '2025-02-24 07:37:37', '2025-02-24 07:37:37', 1)\n"
     ]
    }
   ],
   "source": [
    "# view all tasks now which have project id 3\n",
    "c.execute(\"SELECT * FROM tasks WHERE project_id=3;\")\n",
    "tasks = c.fetchall()\n",
    "for task in tasks:\n",
    "    print(task)"
   ]
  },
  {
   "cell_type": "code",
   "execution_count": 51,
   "metadata": {},
   "outputs": [],
   "source": [
    "# save to db\n",
    "conn.commit()"
   ]
  },
  {
   "cell_type": "code",
   "execution_count": null,
   "metadata": {},
   "outputs": [],
   "source": []
  }
 ],
 "metadata": {
  "kernelspec": {
   "display_name": "ExpVenv",
   "language": "python",
   "name": "python3"
  },
  "language_info": {
   "codemirror_mode": {
    "name": "ipython",
    "version": 3
   },
   "file_extension": ".py",
   "mimetype": "text/x-python",
   "name": "python",
   "nbconvert_exporter": "python",
   "pygments_lexer": "ipython3",
   "version": "3.10.11"
  }
 },
 "nbformat": 4,
 "nbformat_minor": 2
}
