{
 "cells": [
  {
   "cell_type": "code",
   "execution_count": 21,
   "id": "7b7689c6",
   "metadata": {},
   "outputs": [],
   "source": [
    "import pandas as pd"
   ]
  },
  {
   "cell_type": "code",
   "execution_count": 24,
   "id": "e651f0a5",
   "metadata": {},
   "outputs": [],
   "source": [
    "episodes = pd.read_csv('episodes.csv')"
   ]
  },
  {
   "cell_type": "code",
   "execution_count": 25,
   "id": "93f8c7ad",
   "metadata": {},
   "outputs": [
    {
     "data": {
      "application/vnd.microsoft.datawrangler.viewer.v0+json": {
       "columns": [
        {
         "name": "index",
         "rawType": "int64",
         "type": "integer"
        },
        {
         "name": "no",
         "rawType": "int64",
         "type": "integer"
        },
        {
         "name": "name",
         "rawType": "object",
         "type": "string"
        }
       ],
       "ref": "dfbb14a3-68de-42da-b8a2-1920cdd748e4",
       "rows": [
        [
         "0",
         "39",
         "Formula 1"
        ],
        [
         "1",
         "38",
         "To Serve and Protect"
        ],
        [
         "2",
         "37",
         "Deep Trouble"
        ],
        [
         "3",
         "36",
         "The Cicada and the Cockroach"
        ],
        [
         "4",
         "35",
         "Ugly Dirty and Good"
        ],
        [
         "5",
         "34",
         "Oggy's Double"
        ],
        [
         "6",
         "33",
         "Cartoon Lesson"
        ],
        [
         "7",
         "32",
         "Moving Out"
        ],
        [
         "8",
         "31",
         "Locked Outside"
        ],
        [
         "9",
         "30",
         "Oggy's grandma"
        ],
        [
         "10",
         "29",
         "Oggy's Crab"
        ],
        [
         "11",
         "28",
         "Fancy-a-Pizza"
        ],
        [
         "12",
         "27",
         "Hold Up"
        ],
        [
         "13",
         "26",
         "Surf's On"
        ],
        [
         "14",
         "25",
         "Horse Ride"
        ],
        [
         "15",
         "24",
         "The Ancestor"
        ],
        [
         "16",
         "23",
         "The Mini-Golf War"
        ],
        [
         "17",
         "22",
         "Oggywood"
        ],
        [
         "18",
         "21",
         "Termite-ator"
        ],
        [
         "19",
         "20",
         "The World Underneath"
        ],
        [
         "20",
         "19",
         "Priceless Roaches"
        ],
        [
         "21",
         "18",
         "The Fugitive"
        ],
        [
         "22",
         "17",
         "Golden Eggs"
        ],
        [
         "23",
         "16",
         "Inside Out"
        ],
        [
         "24",
         "15",
         "Castaway Cats"
        ],
        [
         "25",
         "14",
         "Trans-Amazonian"
        ],
        [
         "26",
         "13",
         "Just Married!"
        ],
        [
         "27",
         "12",
         "Living Carrots"
        ],
        [
         "28",
         "11",
         "First Flight"
        ],
        [
         "29",
         "10",
         "Invincible"
        ],
        [
         "30",
         "9",
         "Santa Oggy"
        ],
        [
         "31",
         "8",
         "Casino"
        ],
        [
         "32",
         "7",
         "Oggy and the Magic Shoes"
        ],
        [
         "33",
         "6",
         "Scuba Diving"
        ],
        [
         "34",
         "5",
         "V.I.P. Party"
        ],
        [
         "35",
         "4",
         "Abandoned Cockroaches"
        ],
        [
         "36",
         "3",
         "Night Watchmen"
        ],
        [
         "37",
         "2",
         "Sheepcat"
        ],
        [
         "38",
         "1",
         "Octopus"
        ]
       ],
       "shape": {
        "columns": 2,
        "rows": 39
       }
      },
      "text/html": [
       "<div>\n",
       "<style scoped>\n",
       "    .dataframe tbody tr th:only-of-type {\n",
       "        vertical-align: middle;\n",
       "    }\n",
       "\n",
       "    .dataframe tbody tr th {\n",
       "        vertical-align: top;\n",
       "    }\n",
       "\n",
       "    .dataframe thead th {\n",
       "        text-align: right;\n",
       "    }\n",
       "</style>\n",
       "<table border=\"1\" class=\"dataframe\">\n",
       "  <thead>\n",
       "    <tr style=\"text-align: right;\">\n",
       "      <th></th>\n",
       "      <th>no</th>\n",
       "      <th>name</th>\n",
       "    </tr>\n",
       "  </thead>\n",
       "  <tbody>\n",
       "    <tr>\n",
       "      <th>0</th>\n",
       "      <td>39</td>\n",
       "      <td>Formula 1</td>\n",
       "    </tr>\n",
       "    <tr>\n",
       "      <th>1</th>\n",
       "      <td>38</td>\n",
       "      <td>To Serve and Protect</td>\n",
       "    </tr>\n",
       "    <tr>\n",
       "      <th>2</th>\n",
       "      <td>37</td>\n",
       "      <td>Deep Trouble</td>\n",
       "    </tr>\n",
       "    <tr>\n",
       "      <th>3</th>\n",
       "      <td>36</td>\n",
       "      <td>The Cicada and the Cockroach</td>\n",
       "    </tr>\n",
       "    <tr>\n",
       "      <th>4</th>\n",
       "      <td>35</td>\n",
       "      <td>Ugly Dirty and Good</td>\n",
       "    </tr>\n",
       "    <tr>\n",
       "      <th>5</th>\n",
       "      <td>34</td>\n",
       "      <td>Oggy's Double</td>\n",
       "    </tr>\n",
       "    <tr>\n",
       "      <th>6</th>\n",
       "      <td>33</td>\n",
       "      <td>Cartoon Lesson</td>\n",
       "    </tr>\n",
       "    <tr>\n",
       "      <th>7</th>\n",
       "      <td>32</td>\n",
       "      <td>Moving Out</td>\n",
       "    </tr>\n",
       "    <tr>\n",
       "      <th>8</th>\n",
       "      <td>31</td>\n",
       "      <td>Locked Outside</td>\n",
       "    </tr>\n",
       "    <tr>\n",
       "      <th>9</th>\n",
       "      <td>30</td>\n",
       "      <td>Oggy's grandma</td>\n",
       "    </tr>\n",
       "    <tr>\n",
       "      <th>10</th>\n",
       "      <td>29</td>\n",
       "      <td>Oggy's Crab</td>\n",
       "    </tr>\n",
       "    <tr>\n",
       "      <th>11</th>\n",
       "      <td>28</td>\n",
       "      <td>Fancy-a-Pizza</td>\n",
       "    </tr>\n",
       "    <tr>\n",
       "      <th>12</th>\n",
       "      <td>27</td>\n",
       "      <td>Hold Up</td>\n",
       "    </tr>\n",
       "    <tr>\n",
       "      <th>13</th>\n",
       "      <td>26</td>\n",
       "      <td>Surf's On</td>\n",
       "    </tr>\n",
       "    <tr>\n",
       "      <th>14</th>\n",
       "      <td>25</td>\n",
       "      <td>Horse Ride</td>\n",
       "    </tr>\n",
       "    <tr>\n",
       "      <th>15</th>\n",
       "      <td>24</td>\n",
       "      <td>The Ancestor</td>\n",
       "    </tr>\n",
       "    <tr>\n",
       "      <th>16</th>\n",
       "      <td>23</td>\n",
       "      <td>The Mini-Golf War</td>\n",
       "    </tr>\n",
       "    <tr>\n",
       "      <th>17</th>\n",
       "      <td>22</td>\n",
       "      <td>Oggywood</td>\n",
       "    </tr>\n",
       "    <tr>\n",
       "      <th>18</th>\n",
       "      <td>21</td>\n",
       "      <td>Termite-ator</td>\n",
       "    </tr>\n",
       "    <tr>\n",
       "      <th>19</th>\n",
       "      <td>20</td>\n",
       "      <td>The World Underneath</td>\n",
       "    </tr>\n",
       "    <tr>\n",
       "      <th>20</th>\n",
       "      <td>19</td>\n",
       "      <td>Priceless Roaches</td>\n",
       "    </tr>\n",
       "    <tr>\n",
       "      <th>21</th>\n",
       "      <td>18</td>\n",
       "      <td>The Fugitive</td>\n",
       "    </tr>\n",
       "    <tr>\n",
       "      <th>22</th>\n",
       "      <td>17</td>\n",
       "      <td>Golden Eggs</td>\n",
       "    </tr>\n",
       "    <tr>\n",
       "      <th>23</th>\n",
       "      <td>16</td>\n",
       "      <td>Inside Out</td>\n",
       "    </tr>\n",
       "    <tr>\n",
       "      <th>24</th>\n",
       "      <td>15</td>\n",
       "      <td>Castaway Cats</td>\n",
       "    </tr>\n",
       "    <tr>\n",
       "      <th>25</th>\n",
       "      <td>14</td>\n",
       "      <td>Trans-Amazonian</td>\n",
       "    </tr>\n",
       "    <tr>\n",
       "      <th>26</th>\n",
       "      <td>13</td>\n",
       "      <td>Just Married!</td>\n",
       "    </tr>\n",
       "    <tr>\n",
       "      <th>27</th>\n",
       "      <td>12</td>\n",
       "      <td>Living Carrots</td>\n",
       "    </tr>\n",
       "    <tr>\n",
       "      <th>28</th>\n",
       "      <td>11</td>\n",
       "      <td>First Flight</td>\n",
       "    </tr>\n",
       "    <tr>\n",
       "      <th>29</th>\n",
       "      <td>10</td>\n",
       "      <td>Invincible</td>\n",
       "    </tr>\n",
       "    <tr>\n",
       "      <th>30</th>\n",
       "      <td>9</td>\n",
       "      <td>Santa Oggy</td>\n",
       "    </tr>\n",
       "    <tr>\n",
       "      <th>31</th>\n",
       "      <td>8</td>\n",
       "      <td>Casino</td>\n",
       "    </tr>\n",
       "    <tr>\n",
       "      <th>32</th>\n",
       "      <td>7</td>\n",
       "      <td>Oggy and the Magic Shoes</td>\n",
       "    </tr>\n",
       "    <tr>\n",
       "      <th>33</th>\n",
       "      <td>6</td>\n",
       "      <td>Scuba Diving</td>\n",
       "    </tr>\n",
       "    <tr>\n",
       "      <th>34</th>\n",
       "      <td>5</td>\n",
       "      <td>V.I.P. Party</td>\n",
       "    </tr>\n",
       "    <tr>\n",
       "      <th>35</th>\n",
       "      <td>4</td>\n",
       "      <td>Abandoned Cockroaches</td>\n",
       "    </tr>\n",
       "    <tr>\n",
       "      <th>36</th>\n",
       "      <td>3</td>\n",
       "      <td>Night Watchmen</td>\n",
       "    </tr>\n",
       "    <tr>\n",
       "      <th>37</th>\n",
       "      <td>2</td>\n",
       "      <td>Sheepcat</td>\n",
       "    </tr>\n",
       "    <tr>\n",
       "      <th>38</th>\n",
       "      <td>1</td>\n",
       "      <td>Octopus</td>\n",
       "    </tr>\n",
       "  </tbody>\n",
       "</table>\n",
       "</div>"
      ],
      "text/plain": [
       "    no                          name\n",
       "0   39                     Formula 1\n",
       "1   38          To Serve and Protect\n",
       "2   37                  Deep Trouble\n",
       "3   36  The Cicada and the Cockroach\n",
       "4   35           Ugly Dirty and Good\n",
       "5   34                 Oggy's Double\n",
       "6   33                Cartoon Lesson\n",
       "7   32                    Moving Out\n",
       "8   31                Locked Outside\n",
       "9   30                Oggy's grandma\n",
       "10  29                   Oggy's Crab\n",
       "11  28                 Fancy-a-Pizza\n",
       "12  27                       Hold Up\n",
       "13  26                     Surf's On\n",
       "14  25                    Horse Ride\n",
       "15  24                  The Ancestor\n",
       "16  23             The Mini-Golf War\n",
       "17  22                      Oggywood\n",
       "18  21                  Termite-ator\n",
       "19  20          The World Underneath\n",
       "20  19             Priceless Roaches\n",
       "21  18                  The Fugitive\n",
       "22  17                   Golden Eggs\n",
       "23  16                    Inside Out\n",
       "24  15                 Castaway Cats\n",
       "25  14               Trans-Amazonian\n",
       "26  13                 Just Married!\n",
       "27  12                Living Carrots\n",
       "28  11                  First Flight\n",
       "29  10                    Invincible\n",
       "30   9                    Santa Oggy\n",
       "31   8                        Casino\n",
       "32   7      Oggy and the Magic Shoes\n",
       "33   6                  Scuba Diving\n",
       "34   5                  V.I.P. Party\n",
       "35   4         Abandoned Cockroaches\n",
       "36   3                Night Watchmen\n",
       "37   2                      Sheepcat\n",
       "38   1                       Octopus"
      ]
     },
     "execution_count": 25,
     "metadata": {},
     "output_type": "execute_result"
    }
   ],
   "source": [
    "episodes"
   ]
  },
  {
   "cell_type": "code",
   "execution_count": null,
   "id": "f212e4fe",
   "metadata": {},
   "outputs": [],
   "source": []
  },
  {
   "cell_type": "code",
   "execution_count": 26,
   "id": "20719165",
   "metadata": {},
   "outputs": [],
   "source": [
    "# get mkv files with full path in the current directory\n",
    "import os\n",
    "mkv_files = [f for f in os.listdir('.') if f.endswith('.mkv')]"
   ]
  },
  {
   "cell_type": "code",
   "execution_count": 27,
   "id": "59cbdf6a",
   "metadata": {},
   "outputs": [],
   "source": [
    "# perform fuzzy search for names of the mkv files with episode names, if they match assign episode number and path to the df\n",
    "import difflib\n",
    "def find_matching_episode(row, mkv_files):\n",
    "    name = row['name']\n",
    "    matches = difflib.get_close_matches(name, mkv_files, n=1, cutoff=0.6)\n",
    "    if matches:\n",
    "        return matches[0]\n",
    "    return None\n",
    "\n",
    "episodes['mkv_path'] = episodes.apply(find_matching_episode, mkv_files=mkv_files, axis=1)\n"
   ]
  },
  {
   "cell_type": "code",
   "execution_count": 28,
   "id": "74dd7709",
   "metadata": {},
   "outputs": [
    {
     "data": {
      "application/vnd.microsoft.datawrangler.viewer.v0+json": {
       "columns": [
        {
         "name": "index",
         "rawType": "int64",
         "type": "integer"
        },
        {
         "name": "no",
         "rawType": "int64",
         "type": "integer"
        },
        {
         "name": "name",
         "rawType": "object",
         "type": "string"
        },
        {
         "name": "mkv_path",
         "rawType": "object",
         "type": "unknown"
        }
       ],
       "ref": "a7842c75-209b-46be-9471-c3e1fe7cf354",
       "rows": [
        [
         "0",
         "39",
         "Formula 1",
         "Formula 1.mkv"
        ],
        [
         "1",
         "38",
         "To Serve and Protect",
         "To Serve and Protect.mkv"
        ],
        [
         "2",
         "37",
         "Deep Trouble",
         "Deep Trouble.mkv"
        ],
        [
         "3",
         "36",
         "The Cicada and the Cockroach",
         "The Cicada and the Cockroach.mkv"
        ],
        [
         "4",
         "35",
         "Ugly Dirty and Good",
         "Ugly, Dirty and Good.mkv"
        ],
        [
         "5",
         "34",
         "Oggy's Double",
         "Oggy's Double.mkv"
        ],
        [
         "6",
         "33",
         "Cartoon Lesson",
         "Cartoon Lesson.mkv"
        ],
        [
         "7",
         "32",
         "Moving Out",
         "Moving Out.mkv"
        ],
        [
         "8",
         "31",
         "Locked Outside",
         "Locked Outside.mkv"
        ],
        [
         "9",
         "30",
         "Oggy's grandma",
         "Oggy's Grandma.mkv"
        ],
        [
         "10",
         "29",
         "Oggy's Crab",
         "Oggy's Crab.mkv"
        ],
        [
         "11",
         "28",
         "Fancy-a-Pizza",
         "Fancy-a-Pizza.mkv"
        ],
        [
         "12",
         "27",
         "Hold Up",
         "Hold Up.mkv"
        ],
        [
         "13",
         "26",
         "Surf's On",
         "Surf's On.mkv"
        ],
        [
         "14",
         "25",
         "Horse Ride",
         "Horse Ride.mkv"
        ],
        [
         "15",
         "24",
         "The Ancestor",
         "The Ancestor.mkv"
        ],
        [
         "16",
         "23",
         "The Mini-Golf War",
         "The Mini-Golf War.mkv"
        ],
        [
         "17",
         "22",
         "Oggywood",
         "Oggywood.mkv"
        ],
        [
         "18",
         "21",
         "Termite-ator",
         "Termite-ator.mkv"
        ],
        [
         "19",
         "20",
         "The World Underneath",
         "The World Underneath.mkv"
        ],
        [
         "20",
         "19",
         "Priceless Roaches",
         "Priceless Roaches.mkv"
        ],
        [
         "21",
         "18",
         "The Fugitive",
         "The Fugitive.mkv"
        ],
        [
         "22",
         "17",
         "Golden Eggs",
         "Golden Eggs.mkv"
        ],
        [
         "23",
         "16",
         "Inside Out",
         "Inside Out.mkv"
        ],
        [
         "24",
         "15",
         "Castaway Cats",
         "Castaway Cats.mkv"
        ],
        [
         "25",
         "14",
         "Trans-Amazonian",
         "Transamazon-ians.mkv"
        ],
        [
         "26",
         "13",
         "Just Married!",
         "Just Married!.mkv"
        ],
        [
         "27",
         "12",
         "Living Carrots",
         "Living Carrots.mkv"
        ],
        [
         "28",
         "11",
         "First Flight",
         "First Flight.mkv"
        ],
        [
         "29",
         "10",
         "Invincible",
         "Invincible.mkv"
        ],
        [
         "30",
         "9",
         "Santa Oggy",
         "Santa Oggy.mkv"
        ],
        [
         "31",
         "8",
         "Casino",
         "Casino.mkv"
        ],
        [
         "32",
         "7",
         "Oggy and the Magic Shoes",
         "Oggy and the Magic Shoes.mkv"
        ],
        [
         "33",
         "6",
         "Scuba Diving",
         "Scuba Diving.mkv"
        ],
        [
         "34",
         "5",
         "V.I.P. Party",
         "V.I.P. Party.mkv"
        ],
        [
         "35",
         "4",
         "Abandoned Cockroaches",
         "Abandoned Cockroaches.mkv"
        ],
        [
         "36",
         "3",
         "Night Watchmen",
         null
        ],
        [
         "37",
         "2",
         "Sheepcat",
         null
        ],
        [
         "38",
         "1",
         "Octopus",
         null
        ]
       ],
       "shape": {
        "columns": 3,
        "rows": 39
       }
      },
      "text/html": [
       "<div>\n",
       "<style scoped>\n",
       "    .dataframe tbody tr th:only-of-type {\n",
       "        vertical-align: middle;\n",
       "    }\n",
       "\n",
       "    .dataframe tbody tr th {\n",
       "        vertical-align: top;\n",
       "    }\n",
       "\n",
       "    .dataframe thead th {\n",
       "        text-align: right;\n",
       "    }\n",
       "</style>\n",
       "<table border=\"1\" class=\"dataframe\">\n",
       "  <thead>\n",
       "    <tr style=\"text-align: right;\">\n",
       "      <th></th>\n",
       "      <th>no</th>\n",
       "      <th>name</th>\n",
       "      <th>mkv_path</th>\n",
       "    </tr>\n",
       "  </thead>\n",
       "  <tbody>\n",
       "    <tr>\n",
       "      <th>0</th>\n",
       "      <td>39</td>\n",
       "      <td>Formula 1</td>\n",
       "      <td>Formula 1.mkv</td>\n",
       "    </tr>\n",
       "    <tr>\n",
       "      <th>1</th>\n",
       "      <td>38</td>\n",
       "      <td>To Serve and Protect</td>\n",
       "      <td>To Serve and Protect.mkv</td>\n",
       "    </tr>\n",
       "    <tr>\n",
       "      <th>2</th>\n",
       "      <td>37</td>\n",
       "      <td>Deep Trouble</td>\n",
       "      <td>Deep Trouble.mkv</td>\n",
       "    </tr>\n",
       "    <tr>\n",
       "      <th>3</th>\n",
       "      <td>36</td>\n",
       "      <td>The Cicada and the Cockroach</td>\n",
       "      <td>The Cicada and the Cockroach.mkv</td>\n",
       "    </tr>\n",
       "    <tr>\n",
       "      <th>4</th>\n",
       "      <td>35</td>\n",
       "      <td>Ugly Dirty and Good</td>\n",
       "      <td>Ugly, Dirty and Good.mkv</td>\n",
       "    </tr>\n",
       "    <tr>\n",
       "      <th>5</th>\n",
       "      <td>34</td>\n",
       "      <td>Oggy's Double</td>\n",
       "      <td>Oggy's Double.mkv</td>\n",
       "    </tr>\n",
       "    <tr>\n",
       "      <th>6</th>\n",
       "      <td>33</td>\n",
       "      <td>Cartoon Lesson</td>\n",
       "      <td>Cartoon Lesson.mkv</td>\n",
       "    </tr>\n",
       "    <tr>\n",
       "      <th>7</th>\n",
       "      <td>32</td>\n",
       "      <td>Moving Out</td>\n",
       "      <td>Moving Out.mkv</td>\n",
       "    </tr>\n",
       "    <tr>\n",
       "      <th>8</th>\n",
       "      <td>31</td>\n",
       "      <td>Locked Outside</td>\n",
       "      <td>Locked Outside.mkv</td>\n",
       "    </tr>\n",
       "    <tr>\n",
       "      <th>9</th>\n",
       "      <td>30</td>\n",
       "      <td>Oggy's grandma</td>\n",
       "      <td>Oggy's Grandma.mkv</td>\n",
       "    </tr>\n",
       "    <tr>\n",
       "      <th>10</th>\n",
       "      <td>29</td>\n",
       "      <td>Oggy's Crab</td>\n",
       "      <td>Oggy's Crab.mkv</td>\n",
       "    </tr>\n",
       "    <tr>\n",
       "      <th>11</th>\n",
       "      <td>28</td>\n",
       "      <td>Fancy-a-Pizza</td>\n",
       "      <td>Fancy-a-Pizza.mkv</td>\n",
       "    </tr>\n",
       "    <tr>\n",
       "      <th>12</th>\n",
       "      <td>27</td>\n",
       "      <td>Hold Up</td>\n",
       "      <td>Hold Up.mkv</td>\n",
       "    </tr>\n",
       "    <tr>\n",
       "      <th>13</th>\n",
       "      <td>26</td>\n",
       "      <td>Surf's On</td>\n",
       "      <td>Surf's On.mkv</td>\n",
       "    </tr>\n",
       "    <tr>\n",
       "      <th>14</th>\n",
       "      <td>25</td>\n",
       "      <td>Horse Ride</td>\n",
       "      <td>Horse Ride.mkv</td>\n",
       "    </tr>\n",
       "    <tr>\n",
       "      <th>15</th>\n",
       "      <td>24</td>\n",
       "      <td>The Ancestor</td>\n",
       "      <td>The Ancestor.mkv</td>\n",
       "    </tr>\n",
       "    <tr>\n",
       "      <th>16</th>\n",
       "      <td>23</td>\n",
       "      <td>The Mini-Golf War</td>\n",
       "      <td>The Mini-Golf War.mkv</td>\n",
       "    </tr>\n",
       "    <tr>\n",
       "      <th>17</th>\n",
       "      <td>22</td>\n",
       "      <td>Oggywood</td>\n",
       "      <td>Oggywood.mkv</td>\n",
       "    </tr>\n",
       "    <tr>\n",
       "      <th>18</th>\n",
       "      <td>21</td>\n",
       "      <td>Termite-ator</td>\n",
       "      <td>Termite-ator.mkv</td>\n",
       "    </tr>\n",
       "    <tr>\n",
       "      <th>19</th>\n",
       "      <td>20</td>\n",
       "      <td>The World Underneath</td>\n",
       "      <td>The World Underneath.mkv</td>\n",
       "    </tr>\n",
       "    <tr>\n",
       "      <th>20</th>\n",
       "      <td>19</td>\n",
       "      <td>Priceless Roaches</td>\n",
       "      <td>Priceless Roaches.mkv</td>\n",
       "    </tr>\n",
       "    <tr>\n",
       "      <th>21</th>\n",
       "      <td>18</td>\n",
       "      <td>The Fugitive</td>\n",
       "      <td>The Fugitive.mkv</td>\n",
       "    </tr>\n",
       "    <tr>\n",
       "      <th>22</th>\n",
       "      <td>17</td>\n",
       "      <td>Golden Eggs</td>\n",
       "      <td>Golden Eggs.mkv</td>\n",
       "    </tr>\n",
       "    <tr>\n",
       "      <th>23</th>\n",
       "      <td>16</td>\n",
       "      <td>Inside Out</td>\n",
       "      <td>Inside Out.mkv</td>\n",
       "    </tr>\n",
       "    <tr>\n",
       "      <th>24</th>\n",
       "      <td>15</td>\n",
       "      <td>Castaway Cats</td>\n",
       "      <td>Castaway Cats.mkv</td>\n",
       "    </tr>\n",
       "    <tr>\n",
       "      <th>25</th>\n",
       "      <td>14</td>\n",
       "      <td>Trans-Amazonian</td>\n",
       "      <td>Transamazon-ians.mkv</td>\n",
       "    </tr>\n",
       "    <tr>\n",
       "      <th>26</th>\n",
       "      <td>13</td>\n",
       "      <td>Just Married!</td>\n",
       "      <td>Just Married!.mkv</td>\n",
       "    </tr>\n",
       "    <tr>\n",
       "      <th>27</th>\n",
       "      <td>12</td>\n",
       "      <td>Living Carrots</td>\n",
       "      <td>Living Carrots.mkv</td>\n",
       "    </tr>\n",
       "    <tr>\n",
       "      <th>28</th>\n",
       "      <td>11</td>\n",
       "      <td>First Flight</td>\n",
       "      <td>First Flight.mkv</td>\n",
       "    </tr>\n",
       "    <tr>\n",
       "      <th>29</th>\n",
       "      <td>10</td>\n",
       "      <td>Invincible</td>\n",
       "      <td>Invincible.mkv</td>\n",
       "    </tr>\n",
       "    <tr>\n",
       "      <th>30</th>\n",
       "      <td>9</td>\n",
       "      <td>Santa Oggy</td>\n",
       "      <td>Santa Oggy.mkv</td>\n",
       "    </tr>\n",
       "    <tr>\n",
       "      <th>31</th>\n",
       "      <td>8</td>\n",
       "      <td>Casino</td>\n",
       "      <td>Casino.mkv</td>\n",
       "    </tr>\n",
       "    <tr>\n",
       "      <th>32</th>\n",
       "      <td>7</td>\n",
       "      <td>Oggy and the Magic Shoes</td>\n",
       "      <td>Oggy and the Magic Shoes.mkv</td>\n",
       "    </tr>\n",
       "    <tr>\n",
       "      <th>33</th>\n",
       "      <td>6</td>\n",
       "      <td>Scuba Diving</td>\n",
       "      <td>Scuba Diving.mkv</td>\n",
       "    </tr>\n",
       "    <tr>\n",
       "      <th>34</th>\n",
       "      <td>5</td>\n",
       "      <td>V.I.P. Party</td>\n",
       "      <td>V.I.P. Party.mkv</td>\n",
       "    </tr>\n",
       "    <tr>\n",
       "      <th>35</th>\n",
       "      <td>4</td>\n",
       "      <td>Abandoned Cockroaches</td>\n",
       "      <td>Abandoned Cockroaches.mkv</td>\n",
       "    </tr>\n",
       "    <tr>\n",
       "      <th>36</th>\n",
       "      <td>3</td>\n",
       "      <td>Night Watchmen</td>\n",
       "      <td>None</td>\n",
       "    </tr>\n",
       "    <tr>\n",
       "      <th>37</th>\n",
       "      <td>2</td>\n",
       "      <td>Sheepcat</td>\n",
       "      <td>None</td>\n",
       "    </tr>\n",
       "    <tr>\n",
       "      <th>38</th>\n",
       "      <td>1</td>\n",
       "      <td>Octopus</td>\n",
       "      <td>None</td>\n",
       "    </tr>\n",
       "  </tbody>\n",
       "</table>\n",
       "</div>"
      ],
      "text/plain": [
       "    no                          name                          mkv_path\n",
       "0   39                     Formula 1                     Formula 1.mkv\n",
       "1   38          To Serve and Protect          To Serve and Protect.mkv\n",
       "2   37                  Deep Trouble                  Deep Trouble.mkv\n",
       "3   36  The Cicada and the Cockroach  The Cicada and the Cockroach.mkv\n",
       "4   35           Ugly Dirty and Good          Ugly, Dirty and Good.mkv\n",
       "5   34                 Oggy's Double                 Oggy's Double.mkv\n",
       "6   33                Cartoon Lesson                Cartoon Lesson.mkv\n",
       "7   32                    Moving Out                    Moving Out.mkv\n",
       "8   31                Locked Outside                Locked Outside.mkv\n",
       "9   30                Oggy's grandma                Oggy's Grandma.mkv\n",
       "10  29                   Oggy's Crab                   Oggy's Crab.mkv\n",
       "11  28                 Fancy-a-Pizza                 Fancy-a-Pizza.mkv\n",
       "12  27                       Hold Up                       Hold Up.mkv\n",
       "13  26                     Surf's On                     Surf's On.mkv\n",
       "14  25                    Horse Ride                    Horse Ride.mkv\n",
       "15  24                  The Ancestor                  The Ancestor.mkv\n",
       "16  23             The Mini-Golf War             The Mini-Golf War.mkv\n",
       "17  22                      Oggywood                      Oggywood.mkv\n",
       "18  21                  Termite-ator                  Termite-ator.mkv\n",
       "19  20          The World Underneath          The World Underneath.mkv\n",
       "20  19             Priceless Roaches             Priceless Roaches.mkv\n",
       "21  18                  The Fugitive                  The Fugitive.mkv\n",
       "22  17                   Golden Eggs                   Golden Eggs.mkv\n",
       "23  16                    Inside Out                    Inside Out.mkv\n",
       "24  15                 Castaway Cats                 Castaway Cats.mkv\n",
       "25  14               Trans-Amazonian              Transamazon-ians.mkv\n",
       "26  13                 Just Married!                 Just Married!.mkv\n",
       "27  12                Living Carrots                Living Carrots.mkv\n",
       "28  11                  First Flight                  First Flight.mkv\n",
       "29  10                    Invincible                    Invincible.mkv\n",
       "30   9                    Santa Oggy                    Santa Oggy.mkv\n",
       "31   8                        Casino                        Casino.mkv\n",
       "32   7      Oggy and the Magic Shoes      Oggy and the Magic Shoes.mkv\n",
       "33   6                  Scuba Diving                  Scuba Diving.mkv\n",
       "34   5                  V.I.P. Party                  V.I.P. Party.mkv\n",
       "35   4         Abandoned Cockroaches         Abandoned Cockroaches.mkv\n",
       "36   3                Night Watchmen                              None\n",
       "37   2                      Sheepcat                              None\n",
       "38   1                       Octopus                              None"
      ]
     },
     "execution_count": 28,
     "metadata": {},
     "output_type": "execute_result"
    }
   ],
   "source": [
    "episodes"
   ]
  },
  {
   "cell_type": "code",
   "execution_count": 29,
   "id": "b40aee9b",
   "metadata": {},
   "outputs": [],
   "source": [
    "# now rename the mkv files with episode numbers before their names\n",
    "for index, row in episodes.iterrows():\n",
    "    if pd.notna(row['mkv_path']):\n",
    "        old_name = row['mkv_path']\n",
    "        new_name = f\"{row['no']:02d} - {old_name}\"\n",
    "        os.rename(old_name, new_name)\n",
    "        episodes.at[index, 'mkv_path'] = new_name  # update the path in the DataFrame"
   ]
  },
  {
   "cell_type": "code",
   "execution_count": null,
   "id": "4d0fd6a0",
   "metadata": {},
   "outputs": [],
   "source": []
  }
 ],
 "metadata": {
  "kernelspec": {
   "display_name": "DSMLEnv",
   "language": "python",
   "name": "python3"
  },
  "language_info": {
   "codemirror_mode": {
    "name": "ipython",
    "version": 3
   },
   "file_extension": ".py",
   "mimetype": "text/x-python",
   "name": "python",
   "nbconvert_exporter": "python",
   "pygments_lexer": "ipython3",
   "version": "3.13.1"
  }
 },
 "nbformat": 4,
 "nbformat_minor": 5
}
