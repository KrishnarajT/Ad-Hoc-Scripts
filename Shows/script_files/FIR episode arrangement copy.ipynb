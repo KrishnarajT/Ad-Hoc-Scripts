{
 "cells": [
  {
   "cell_type": "code",
   "execution_count": 140,
   "metadata": {},
   "outputs": [],
   "source": [
    "import os"
   ]
  },
  {
   "cell_type": "code",
   "execution_count": 141,
   "metadata": {},
   "outputs": [
    {
     "name": "stdout",
     "output_type": "stream",
     "text": [
      "s:\\Shows\\Shows-scripts\\script_files\n"
     ]
    }
   ],
   "source": [
    "# print the current working directory\n",
    "print(os.getcwd())"
   ]
  },
  {
   "cell_type": "code",
   "execution_count": 142,
   "metadata": {},
   "outputs": [],
   "source": [
    "# get the list of episodes\n",
    "episodes_file = os.path.join(\n",
    "    os.getcwd(),\n",
    "    \"../shows_info_files/\",\n",
    "    \"tmkoc episode names with numbers till 2000.txt\",\n",
    ")"
   ]
  },
  {
   "cell_type": "code",
   "execution_count": 157,
   "metadata": {},
   "outputs": [],
   "source": [
    "# read episodes file.\n",
    "# make a hashmap with type <string, int> where key is episode name and value is episode number, read each line from file\n",
    "# and store it in hashmap\n",
    "\n",
    "episodes = {}\n",
    "with open(episodes_file, \"r\") as f:\n",
    "    for line in f:\n",
    "        episode_number, episode_name = line.strip().split(\".\", 1)\n",
    "        episode_name = episode_name.strip()\n",
    "        episode_name = episode_name.strip(\"?\")\n",
    "        episode_name = episode_name.replace(\"Taarak Mehta Ka Ooltah Chashmah - \", \"\")\n",
    "        episodes[episode_name] = int(episode_number)"
   ]
  },
  {
   "cell_type": "code",
   "execution_count": 158,
   "metadata": {},
   "outputs": [
    {
     "name": "stdout",
     "output_type": "stream",
     "text": [
      "100: Jethalal And His Family Reach The Theatre\n",
      "99: A Burglar Snatches Jethalal's Mobile\n",
      "98: Jethalal Is Excited To Go For Exercise With Babita\n",
      "97: Jethalal Starts Dieting\n",
      "96: Babita Suggests Jethalal To Exercise\n",
      "95: Winner Of Gokuldham's Cultural Dance Program\n",
      "94: Special Guest In Gokuldham's Cultural Dance Program\n",
      "93: Taarak Declares A Cultural Dance Program\n",
      "92: Clash Of Plans\n",
      "91: Dr. Hathi Gets Stuck In Auto Rickshaw\n"
     ]
    }
   ],
   "source": [
    "# print the first 100 episodes\n",
    "for episode_name, episode_number in list(episodes.items())[:10]:\n",
    "    print(f\"{episode_number}: {episode_name}\")"
   ]
  },
  {
   "cell_type": "code",
   "execution_count": 165,
   "metadata": {},
   "outputs": [],
   "source": [
    "all_episodes_directory = [\n",
    "    # \"S:/tartube/Unsorted Videos\",\n",
    "    \"S:\\Shows\\Taarak Mehta ka ooltah chashmah\",\n",
    "    \"D:\\Shows\\Taarak Mehta Ka Ooltah Chashmah\",\n",
    "]\n",
    "\n",
    "\n",
    "# get the list of files in the directory\n",
    "\n",
    "\n",
    "all_files = []\n",
    "for directory in all_episodes_directory:\n",
    "    all_files.extend(os.listdir(directory))"
   ]
  },
  {
   "cell_type": "code",
   "execution_count": 166,
   "metadata": {},
   "outputs": [
    {
     "data": {
      "text/plain": [
       "582"
      ]
     },
     "execution_count": 166,
     "metadata": {},
     "output_type": "execute_result"
    }
   ],
   "source": [
    "episodes[\"Bhide And Madhavi's Dream\"]"
   ]
  },
  {
   "cell_type": "code",
   "execution_count": 167,
   "metadata": {},
   "outputs": [
    {
     "name": "stdout",
     "output_type": "stream",
     "text": [
      "Error removing S01E1998. Mission Saaf Safai.mp4, Mission Saaf Safai from unaccounted_for_episodes\n",
      "'Mission Saaf Safai'\n",
      "Error removing S01E0150. Wives Pressurize Bhide To Allow Madhavi To Join The Kitty Party.mp4, Wives Pressurize Bhide To Allow Madhavi To Join The Kitty Party from unaccounted_for_episodes\n",
      "'Wives Pressurize Bhide To Allow Madhavi To Join The Kitty Party'\n",
      "Error removing S01E0200. Gokuldham's  Anniversary Celebration Begins.mp4, Gokuldham's  Anniversary Celebration Begins from unaccounted_for_episodes\n",
      "\"Gokuldham's  Anniversary Celebration Begins\"\n",
      "Error removing S01E0293. Dance Till  You Drop.mp4, Dance Till  You Drop from unaccounted_for_episodes\n",
      "'Dance Till  You Drop'\n",
      "Error removing S01E0751. Catching The Culprit.mp4, Catching The Culprit from unaccounted_for_episodes\n",
      "'Catching The Culprit'\n",
      "Error removing S01E0777. Jethalal's Plan.mp4, Jethalal's Plan from unaccounted_for_episodes\n",
      "\"Jethalal's Plan\"\n",
      "Error removing S01E0876. Ladies versus Shopkeeper.mp4, Ladies versus Shopkeeper from unaccounted_for_episodes\n",
      "'Ladies versus Shopkeeper'\n",
      "Error removing S01E1048. Finding A Solution.mp4, Finding A Solution from unaccounted_for_episodes\n",
      "'Finding A Solution'\n",
      "Error removing S01E1901. Jethalal's Fast.mp4, Jethalal's Fast from unaccounted_for_episodes\n",
      "\"Jethalal's Fast\"\n"
     ]
    }
   ],
   "source": [
    "# iterate through all files in the directory, and match with the hashmap. Then rename the file with episode number, and name from hashmap\n",
    "unknown_files = []\n",
    "unaccounted_for_episodes = episodes.copy()\n",
    "for file in all_files:\n",
    "    old_file_name = file\n",
    "    if file.startswith(\"S01E\"):\n",
    "        file_name_key = file.split(\".\", 1)[1]\n",
    "        file_name_key = file_name_key.replace(\".mp4\", \"\")\n",
    "        file_name_key = file_name_key.strip()\n",
    "        try:\n",
    "            unaccounted_for_episodes.pop(file_name_key)\n",
    "        except Exception as e:\n",
    "            print(\n",
    "                f\"Error removing {old_file_name}, {file_name_key} from unaccounted_for_episodes\"\n",
    "            )\n",
    "            print(e)\n",
    "        continue\n",
    "    # format file\n",
    "    file = file.strip()\n",
    "    # replace name\n",
    "    file = file.replace(\"Taarak Mehta Ka Ooltah Chashmah –\", \"\")\n",
    "    # remove extension\n",
    "    file = file.replace(\".mp4\", \"\")\n",
    "    file = file.strip()\n",
    "\n",
    "    # now since we have a hash map, we can get the episode number from the hashmap\n",
    "    episode_number = episodes.get(file)\n",
    "    # if episode number is not found, then add the file to a list\n",
    "    if episode_number is None:\n",
    "        print(f\"Episode number not found for {file}\")\n",
    "        unknown_files.append(old_file_name)\n",
    "        continue\n",
    "\n",
    "    # at this point we got a match.\n",
    "    # remove the episode from the hashmap\n",
    "    unaccounted_for_episodes.pop(file)\n",
    "\n",
    "    # format the episode number to 4 digits\n",
    "    episode_number = str(episode_number).zfill(4)\n",
    "    # rename the file\n",
    "    new_name = f\"S01E{episode_number}. {file}.mp4\"\n",
    "    print(f\"Renaming {file} to {new_name}\")\n",
    "    try:\n",
    "        os.rename(\n",
    "            os.path.join(all_episodes_directory, old_file_name),\n",
    "            os.path.join(all_episodes_directory, new_name),\n",
    "        )\n",
    "    except Exception as e:\n",
    "        print(f\"Error renaming {file} to {new_name}\")\n",
    "        print(e)"
   ]
  },
  {
   "cell_type": "code",
   "execution_count": 168,
   "metadata": {},
   "outputs": [
    {
     "name": "stdout",
     "output_type": "stream",
     "text": [
      "0\n",
      "17\n"
     ]
    }
   ],
   "source": [
    "print(len(unknown_files))\n",
    "print(len(unaccounted_for_episodes))"
   ]
  },
  {
   "cell_type": "code",
   "execution_count": 169,
   "metadata": {},
   "outputs": [],
   "source": [
    "# now for the rest of the files, we know for a fact that the names have got to do atleast something with the names in our list.\n",
    "# so lets try to find a percentage match between our names and iterate through all our unaccounted for episodes\n",
    "\n",
    "# for each episode name in unknown files, iterate through all the episode names in the hashmap and find the best match\n",
    "# if the match is above a certain threshold, then rename the file\n",
    "\n",
    "# threshold for match\n",
    "\n",
    "threshold = 0.9\n",
    "from fuzzywuzzy import fuzz\n",
    "\n",
    "for unknown_file in unknown_files:\n",
    "    max_match = 0\n",
    "    best_match = None\n",
    "    for episode_name in unaccounted_for_episodes.keys():\n",
    "        match = fuzz.ratio(unknown_file, episode_name)\n",
    "        if match > max_match:\n",
    "            max_match = match\n",
    "            best_match = episode_name\n",
    "    if max_match > threshold:\n",
    "        episode_number = unaccounted_for_episodes.pop(best_match)\n",
    "        episode_number = str(episode_number).zfill(4)\n",
    "        new_name = f\"S01E{episode_number}. {best_match}.mp4\"\n",
    "        print(f\"Renaming {unknown_file} to {new_name}\")\n",
    "        try:\n",
    "            episode_directory = None\n",
    "            # since we dont know the directory, lets try to rename it through all directories\n",
    "            for directory in all_episodes_directory:\n",
    "                try:\n",
    "                    os.rename(\n",
    "                        os.path.join(directory, unknown_file),\n",
    "                        os.path.join(directory, new_name),\n",
    "                    )\n",
    "                    episode_directory = directory\n",
    "                    print(f\"Renamed {unknown_file} to {new_name}\")\n",
    "                    break\n",
    "                except Exception as e:\n",
    "                    print(f\"Error renaming {unknown_file} to {new_name}\")\n",
    "                    print(e)\n",
    "        except Exception as e:\n",
    "            print(f\"Error renaming {unknown_file} to {new_name}\")\n",
    "            print(e)"
   ]
  },
  {
   "cell_type": "code",
   "execution_count": 170,
   "metadata": {},
   "outputs": [
    {
     "name": "stdout",
     "output_type": "stream",
     "text": [
      "These episodes are unaccounted for: meaning either they were not renamed somehow, or they were not downloaded\n",
      "Gokuldham's Anniversary Celebration Begins\n",
      "Search For Gogi Begins\n",
      "Dance Till You Drop\n",
      "Bhide Takes Computer Classes From Tapu\n",
      "The Disappointing Roadtrip\n",
      "Daya Covers Up\n",
      "Popatlal Gives A Shock\n",
      "Nattu Kaka Is Back\n",
      "Painting The Society\n",
      "Ladies V/S Shopkeeper\n",
      "The La Hula Dance\n",
      "A Trip To Mahabaleshwar\n",
      "The Pot Of Diamonds\n",
      "A Heart-Warming Family Reunion\n",
      "Where Is Bagha\n",
      "Bhide And His Sakharam\n",
      "Mission \"Saaf Safai\"\n"
     ]
    }
   ],
   "source": [
    "print(\n",
    "    \"These episodes are unaccounted for: meaning either they were not renamed somehow, or they were not downloaded\"\n",
    ")\n",
    "for episode_name in unaccounted_for_episodes.keys():\n",
    "    print(episode_name)"
   ]
  },
  {
   "cell_type": "code",
   "execution_count": 171,
   "metadata": {},
   "outputs": [],
   "source": [
    "# rechecking the files\n",
    "all_files = []\n",
    "for directory in all_episodes_directory:\n",
    "    all_files.extend(os.listdir(directory))"
   ]
  },
  {
   "cell_type": "code",
   "execution_count": 172,
   "metadata": {},
   "outputs": [
    {
     "data": {
      "text/plain": [
       "1975"
      ]
     },
     "execution_count": 172,
     "metadata": {},
     "output_type": "execute_result"
    }
   ],
   "source": [
    "len(all_files)"
   ]
  },
  {
   "cell_type": "code",
   "execution_count": 173,
   "metadata": {},
   "outputs": [
    {
     "name": "stdout",
     "output_type": "stream",
     "text": [
      "Total files: 1975. Expected 2000. Please check the files. PS. make sure to check the episode numbering with the created date. Sort by episode number, if something is wrong, you will find an anomaly in created date\n"
     ]
    }
   ],
   "source": [
    "expected_len = 2000\n",
    "if len(all_files) == expected_len:\n",
    "    print(f\"All files renamed successfully. Total files: {len(all_files)}\")\n",
    "else:\n",
    "    print(\n",
    "        f\"Total files: {len(all_files)}. Expected {expected_len}. Please check the files. PS. make sure to check the episode numbering with the created date. Sort by episode number, if something is wrong, you will find an anomaly in created date\"\n",
    "    )"
   ]
  },
  {
   "cell_type": "code",
   "execution_count": 174,
   "metadata": {},
   "outputs": [
    {
     "name": "stdout",
     "output_type": "stream",
     "text": [
      "Episode not found:  S01E0200. Gokuldham's Anniversary Celebration Begins.mp4\n",
      "episode in question:  S01E0200. Gokuldham's Anniversary Celebration Begins.mp4\n",
      "its number:  0200\n",
      "Episode not found:  S01E0147. Search For Gogi Begins.mp4\n",
      "episode in question:  S01E0147. Search For Gogi Begins.mp4\n",
      "its number:  0147\n",
      "Episode not found:  S01E0293. Dance Till You Drop.mp4\n",
      "episode in question:  S01E0293. Dance Till You Drop.mp4\n",
      "its number:  0293\n",
      "Episode not found:  S01E0224. Daya Misses Jethalal.mp4\n",
      "episode in question:  S01E0224. Daya Misses Jethalal.mp4\n",
      "its number:  0224\n",
      "Episode not found:  S01E0315. Bhide Takes Computer Classes From Tapu.mp4\n",
      "episode in question:  S01E0315. Bhide Takes Computer Classes From Tapu.mp4\n",
      "its number:  0315\n",
      "Episode not found:  S01E0303. The Disappointing Roadtrip.mp4\n",
      "episode in question:  S01E0303. The Disappointing Roadtrip.mp4\n",
      "its number:  0303\n",
      "Episode not found:  S01E0593. Daya Covers Up.mp4\n",
      "episode in question:  S01E0593. Daya Covers Up.mp4\n",
      "its number:  0593\n",
      "Episode not found:  S01E0583. Popatlal Gives A Shock.mp4\n",
      "episode in question:  S01E0583. Popatlal Gives A Shock.mp4\n",
      "its number:  0583\n",
      "Episode not found:  S01E0519. Nattu Kaka Is Back.mp4\n",
      "episode in question:  S01E0519. Nattu Kaka Is Back.mp4\n",
      "its number:  0519\n",
      "Episode not found:  S01E0515. Painting The Society.mp4\n",
      "episode in question:  S01E0515. Painting The Society.mp4\n",
      "its number:  0515\n",
      "Episode not found:  S01E0700. All's Well That Ends Well.mp4\n",
      "episode in question:  S01E0700. All's Well That Ends Well.mp4\n",
      "its number:  0700\n",
      "Episode not found:  S01E0695. Where Is The Money.mp4\n",
      "episode in question:  S01E0695. Where Is The Money.mp4\n",
      "its number:  0695\n",
      "Episode not found:  S01E0748. Jethalal Is Upset.mp4\n",
      "episode in question:  S01E0748. Jethalal Is Upset.mp4\n",
      "its number:  0748\n",
      "Episode not found:  S01E0713. The Revelation.mp4\n",
      "episode in question:  S01E0713. The Revelation.mp4\n",
      "its number:  0713\n",
      "Episode not found:  S01E0707. Daya Has A Request.mp4\n",
      "episode in question:  S01E0707. Daya Has A Request.mp4\n",
      "its number:  0707\n",
      "Episode not found:  S01E0876. Ladies V/S Shopkeeper.mp4\n",
      "episode in question:  S01E0876. Ladies V/S Shopkeeper.mp4\n",
      "its number:  0876\n",
      "Episode not found:  S01E0847. Jethalal Is Upset.mp4\n",
      "episode in question:  S01E0847. Jethalal Is Upset.mp4\n",
      "its number:  0847\n",
      "Episode not found:  S01E0959. The La Hula Dance.mp4\n",
      "episode in question:  S01E0959. The La Hula Dance.mp4\n",
      "its number:  0959\n",
      "Episode not found:  S01E0952. A Trip To Mahabaleshwar.mp4\n",
      "episode in question:  S01E0952. A Trip To Mahabaleshwar.mp4\n",
      "its number:  0952\n",
      "Episode not found:  S01E0938. The Pot Of Diamonds.mp4\n",
      "episode in question:  S01E0938. The Pot Of Diamonds.mp4\n",
      "its number:  0938\n",
      "Episode not found:  S01E0902. A Heart-Warming Family Reunion.mp4\n",
      "episode in question:  S01E0902. A Heart-Warming Family Reunion.mp4\n",
      "its number:  0902\n",
      "Episode not found:  S01E1064. Where Is Bagha.mp4\n",
      "episode in question:  S01E1064. Where Is Bagha.mp4\n",
      "its number:  1064\n",
      "Episode not found:  S01E1028. Tapu Goes Missing.mp4\n",
      "episode in question:  S01E1028. Tapu Goes Missing.mp4\n",
      "its number:  1028\n",
      "Episode not found:  S01E1011. Tapu Sena's Mind.mp4\n",
      "episode in question:  S01E1011. Tapu Sena's Mind.mp4\n",
      "its number:  1011\n",
      "Episode not found:  S01E1497. Where Is The Money.mp4\n",
      "episode in question:  S01E1497. Where Is The Money.mp4\n",
      "its number:  1497\n",
      "Episode not found:  S01E1592. Champaklal Goes On A Ride.mp4\n",
      "episode in question:  S01E1592. Champaklal Goes On A Ride.mp4\n",
      "its number:  1592\n",
      "Episode not found:  S01E1687. Bhide Gets Worried.mp4\n",
      "episode in question:  S01E1687. Bhide Gets Worried.mp4\n",
      "its number:  1687\n",
      "Episode not found:  S01E1682. Popatlal's Trouble.mp4\n",
      "episode in question:  S01E1682. Popatlal's Trouble.mp4\n",
      "its number:  1682\n",
      "Episode not found:  S01E1752. Sundar's Surprise For Daya.mp4\n",
      "episode in question:  S01E1752. Sundar's Surprise For Daya.mp4\n",
      "its number:  1752\n",
      "Episode not found:  S01E1812. Bhide And His Sakharam.mp4\n",
      "episode in question:  S01E1812. Bhide And His Sakharam.mp4\n",
      "its number:  1812\n",
      "Episode not found:  S01E1998. Mission \"Saaf Safai\".mp4\n",
      "episode in question:  S01E1998. Mission \"Saaf Safai\".mp4\n",
      "its number:  1998\n"
     ]
    }
   ],
   "source": [
    "# lets again find unaccounted episodes but without the hashmap ## Rigorous check\n",
    "issue_episodes = {}\n",
    "with open(episodes_file, \"r\") as f:\n",
    "    for line in f:\n",
    "        # find real episode name and number\n",
    "        episode_number, episode_name = line.strip().split(\".\", 1)\n",
    "        episode_name = episode_name.strip()\n",
    "        episode_name = episode_name.strip(\"?\")\n",
    "        episode_name = episode_name.replace(\"Taarak Mehta Ka Ooltah Chashmah - \", \"\")\n",
    "\n",
    "        # reconstruct the name it is supposed to have in all files\n",
    "        episode_number = int(episode_number)\n",
    "        episode_number = str(episode_number).zfill(4)\n",
    "        episode_name = f\"S01E{episode_number}. {episode_name}.mp4\"\n",
    "\n",
    "        # check if the episode is present in all files\n",
    "        if episode_name not in all_files:\n",
    "            print(\"Episode not found: \", episode_name)\n",
    "            print(\"episode in question: \", episode_name)\n",
    "            print(\"its number: \", episode_number)\n",
    "            issue_episodes[int(episode_number)] = episode_name"
   ]
  },
  {
   "cell_type": "code",
   "execution_count": 175,
   "metadata": {},
   "outputs": [
    {
     "data": {
      "text/plain": [
       "1983"
      ]
     },
     "execution_count": 175,
     "metadata": {},
     "output_type": "execute_result"
    }
   ],
   "source": [
    "len(episodes)"
   ]
  },
  {
   "cell_type": "code",
   "execution_count": 176,
   "metadata": {},
   "outputs": [],
   "source": [
    "# so we simply have to download these episodes again.\n",
    "file_with_urls = os.path.join(\"../shows_info_files\", \"tmkoc episode urls till 2000.txt\")"
   ]
  },
  {
   "cell_type": "code",
   "execution_count": 177,
   "metadata": {},
   "outputs": [],
   "source": [
    "urls = {}\n",
    "counter = 1\n",
    "# assuming each line is just the url\n",
    "with open(file_with_urls, \"r\") as f:\n",
    "    for line in f:\n",
    "        urls[counter] = line\n",
    "        counter += 1"
   ]
  },
  {
   "cell_type": "code",
   "execution_count": 178,
   "metadata": {},
   "outputs": [
    {
     "data": {
      "text/plain": [
       "2000"
      ]
     },
     "execution_count": 178,
     "metadata": {},
     "output_type": "execute_result"
    }
   ],
   "source": [
    "len(urls)"
   ]
  },
  {
   "cell_type": "code",
   "execution_count": 192,
   "metadata": {},
   "outputs": [
    {
     "data": {
      "text/plain": [
       "int"
      ]
     },
     "execution_count": 192,
     "metadata": {},
     "output_type": "execute_result"
    }
   ],
   "source": [
    "type(list(issue_episodes.keys())[0])"
   ]
  },
  {
   "cell_type": "code",
   "execution_count": 194,
   "metadata": {},
   "outputs": [
    {
     "data": {
      "text/plain": [
       "dict_keys([200, 147, 293, 224, 315, 303, 593, 583, 519, 515, 700, 695, 748, 713, 707, 876, 847, 959, 952, 938, 902, 1064, 1028, 1011, 1497, 1592, 1687, 1682, 1752, 1812, 1998])"
      ]
     },
     "execution_count": 194,
     "metadata": {},
     "output_type": "execute_result"
    }
   ],
   "source": [
    "issue_episodes.keys()"
   ]
  },
  {
   "cell_type": "code",
   "execution_count": 197,
   "metadata": {},
   "outputs": [],
   "source": [
    "# get the links\n",
    "file_name_with_desc_and_links = os.path.join(\n",
    "    \"../shows_info_files\", \"tmkoc episode with description and everything till 2k.txt\"\n",
    ")\n",
    "\n",
    "episode_links = {}  # number and link, the number we can get from issue episodes\n",
    "with open(file_name_with_desc_and_links, \"r\") as f:\n",
    "    for i in range(2000):\n",
    "        link = f.readline()\n",
    "        thumbnail = f.readline()\n",
    "        episode_number, episode_name = f.readline().strip().split(\".\", 1)\n",
    "        duration = f.readline()\n",
    "        date = f.readline()\n",
    "        description = f.readline()\n",
    "        if int(episode_number) in issue_episodes.keys():\n",
    "            episode_links[episode_number] = link"
   ]
  },
  {
   "cell_type": "code",
   "execution_count": 198,
   "metadata": {},
   "outputs": [
    {
     "data": {
      "text/plain": [
       "{'200': 'https://www.sonyliv.com/shows/taarak-mehta-ka-ooltah-chashmah-1700000084/taarak-mehta-ka-ooltah-chashmah-gokuldham-s-anniversary-celebration-begins-1000014743?watch=true\\n',\n",
       " '147': 'https://www.sonyliv.com/shows/taarak-mehta-ka-ooltah-chashmah-1700000084/taarak-mehta-ka-ooltah-chashmah-search-for-gogi-begins-1000021338?watch=true\\n',\n",
       " '293': 'https://www.sonyliv.com/shows/taarak-mehta-ka-ooltah-chashmah-1700000084/taarak-mehta-ka-ooltah-chashmah-dance-till-you-drop-1000014457?watch=true\\n',\n",
       " '224': 'https://www.sonyliv.com/shows/taarak-mehta-ka-ooltah-chashmah-1700000084/taarak-mehta-ka-ooltah-chashmah-daya-misses-jethalal-1000021606?watch=true\\n',\n",
       " '315': 'https://www.sonyliv.com/shows/taarak-mehta-ka-ooltah-chashmah-1700000084/taarak-mehta-ka-ooltah-chashmah-bhide-takes-computer-classes-from-tapu-1000014503?watch=true\\n',\n",
       " '303': 'https://www.sonyliv.com/shows/taarak-mehta-ka-ooltah-chashmah-1700000084/taarak-mehta-ka-ooltah-chashmah-the-disappointing-roadtrip-1000014489?watch=true\\n',\n",
       " '593': 'https://www.sonyliv.com/shows/taarak-mehta-ka-ooltah-chashmah-1700000084/taarak-mehta-ka-ooltah-chashmah-daya-covers-up-1000036806?watch=true\\n',\n",
       " '583': 'https://www.sonyliv.com/shows/taarak-mehta-ka-ooltah-chashmah-1700000084/taarak-mehta-ka-ooltah-chashmah-popatlal-gives-a-shock-1000036789?watch=true\\n',\n",
       " '519': 'https://www.sonyliv.com/shows/taarak-mehta-ka-ooltah-chashmah-1700000084/taarak-mehta-ka-ooltah-chashmah-nattu-kaka-is-back-1000037014?watch=true\\n',\n",
       " '515': 'https://www.sonyliv.com/shows/taarak-mehta-ka-ooltah-chashmah-1700000084/taarak-mehta-ka-ooltah-chashmah-painting-the-society-1000037006?watch=true\\n',\n",
       " '700': 'https://www.sonyliv.com/shows/taarak-mehta-ka-ooltah-chashmah-1700000084/taarak-mehta-ka-ooltah-chashmah-all-s-well-that-ends-well-1000036928?watch=true\\n',\n",
       " '695': 'https://www.sonyliv.com/shows/taarak-mehta-ka-ooltah-chashmah-1700000084/taarak-mehta-ka-ooltah-chashmah-where-is-the-money-1000036925?watch=true\\n',\n",
       " '748': 'https://www.sonyliv.com/shows/taarak-mehta-ka-ooltah-chashmah-1700000084/taarak-mehta-ka-ooltah-chashmah-jethalal-is-upset-1000036939?watch=true\\n',\n",
       " '713': 'https://www.sonyliv.com/shows/taarak-mehta-ka-ooltah-chashmah-1700000084/taarak-mehta-ka-ooltah-chashmah-the-revelation-1000036894?watch=true\\n',\n",
       " '707': 'https://www.sonyliv.com/shows/taarak-mehta-ka-ooltah-chashmah-1700000084/taarak-mehta-ka-ooltah-chashmah-daya-has-a-request-1000036914?watch=true\\n',\n",
       " '876': 'https://www.sonyliv.com/shows/taarak-mehta-ka-ooltah-chashmah-1700000084/taarak-mehta-ka-ooltah-chashmah-ladies-v-s-shopkeeper-1000014470?watch=true\\n',\n",
       " '847': 'https://www.sonyliv.com/shows/taarak-mehta-ka-ooltah-chashmah-1700000084/taarak-mehta-ka-ooltah-chashmah-jethalal-is-upset-1000037397?watch=true\\n',\n",
       " '959': 'https://www.sonyliv.com/shows/taarak-mehta-ka-ooltah-chashmah-1700000084/taarak-mehta-ka-ooltah-chashmah-the-la-hula-dance-1000014619?watch=true\\n',\n",
       " '952': 'https://www.sonyliv.com/shows/taarak-mehta-ka-ooltah-chashmah-1700000084/taarak-mehta-ka-ooltah-chashmah-a-trip-to-mahabaleshwar-1000014614?watch=true\\n',\n",
       " '938': 'https://www.sonyliv.com/shows/taarak-mehta-ka-ooltah-chashmah-1700000084/taarak-mehta-ka-ooltah-chashmah-the-pot-of-diamonds-1000014599?watch=true\\n',\n",
       " '902': 'https://www.sonyliv.com/shows/taarak-mehta-ka-ooltah-chashmah-1700000084/taarak-mehta-ka-ooltah-chashmah-a-heart-warming-family-reunion-1000014565?watch=true\\n',\n",
       " '1064': 'https://www.sonyliv.com/shows/taarak-mehta-ka-ooltah-chashmah-1700000084/taarak-mehta-ka-ooltah-chashmah-where-is-bagha-1000035912?watch=true\\n',\n",
       " '1028': 'https://www.sonyliv.com/shows/taarak-mehta-ka-ooltah-chashmah-1700000084/taarak-mehta-ka-ooltah-chashmah-tapu-goes-missing-1000020873?watch=true\\n',\n",
       " '1011': 'https://www.sonyliv.com/shows/taarak-mehta-ka-ooltah-chashmah-1700000084/taarak-mehta-ka-ooltah-chashmah-tapu-sena-s-mind-1000020871?watch=true\\n',\n",
       " '1497': 'https://www.sonyliv.com/shows/taarak-mehta-ka-ooltah-chashmah-1700000084/taarak-mehta-ka-ooltah-chashmah-where-is-the-money-1000043182?watch=true\\n',\n",
       " '1592': 'https://www.sonyliv.com/shows/taarak-mehta-ka-ooltah-chashmah-1700000084/taarak-mehta-ka-ooltah-chashmah-champaklal-goes-on-a-ride-1000043059?watch=true\\n',\n",
       " '1687': 'https://www.sonyliv.com/shows/taarak-mehta-ka-ooltah-chashmah-1700000084/taarak-mehta-ka-ooltah-chashmah-bhide-gets-worried-1000047093?watch=true\\n',\n",
       " '1682': 'https://www.sonyliv.com/shows/taarak-mehta-ka-ooltah-chashmah-1700000084/taarak-mehta-ka-ooltah-chashmah-popatlal-s-trouble-1000047089?watch=true\\n',\n",
       " '1752': 'https://www.sonyliv.com/shows/taarak-mehta-ka-ooltah-chashmah-1700000084/taarak-mehta-ka-ooltah-chashmah-sundar-s-surprise-for-daya-1000020913?watch=true\\n',\n",
       " '1812': 'https://www.sonyliv.com/shows/taarak-mehta-ka-ooltah-chashmah-1700000084/taarak-mehta-ka-ooltah-chashmah-bhide-and-his-sakharam-1000020941?watch=true\\n',\n",
       " '1998': 'https://www.sonyliv.com/shows/taarak-mehta-ka-ooltah-chashmah-1700000084/taarak-mehta-ka-ooltah-chashmah-mission-saaf-safai-1000021120?watch=true\\n'}"
      ]
     },
     "execution_count": 198,
     "metadata": {},
     "output_type": "execute_result"
    }
   ],
   "source": [
    "episode_links"
   ]
  },
  {
   "cell_type": "code",
   "execution_count": 202,
   "metadata": {},
   "outputs": [
    {
     "name": "stdout",
     "output_type": "stream",
     "text": [
      "https://www.sonyliv.com/shows/taarak-mehta-ka-ooltah-chashmah-1700000084/taarak-mehta-ka-ooltah-chashmah-gokuldham-s-anniversary-celebration-begins-1000014743?watch=true\n",
      "https://www.sonyliv.com/shows/taarak-mehta-ka-ooltah-chashmah-1700000084/taarak-mehta-ka-ooltah-chashmah-search-for-gogi-begins-1000021338?watch=true\n",
      "https://www.sonyliv.com/shows/taarak-mehta-ka-ooltah-chashmah-1700000084/taarak-mehta-ka-ooltah-chashmah-dance-till-you-drop-1000014457?watch=true\n",
      "https://www.sonyliv.com/shows/taarak-mehta-ka-ooltah-chashmah-1700000084/taarak-mehta-ka-ooltah-chashmah-daya-misses-jethalal-1000021606?watch=true\n",
      "https://www.sonyliv.com/shows/taarak-mehta-ka-ooltah-chashmah-1700000084/taarak-mehta-ka-ooltah-chashmah-bhide-takes-computer-classes-from-tapu-1000014503?watch=true\n",
      "https://www.sonyliv.com/shows/taarak-mehta-ka-ooltah-chashmah-1700000084/taarak-mehta-ka-ooltah-chashmah-the-disappointing-roadtrip-1000014489?watch=true\n",
      "https://www.sonyliv.com/shows/taarak-mehta-ka-ooltah-chashmah-1700000084/taarak-mehta-ka-ooltah-chashmah-daya-covers-up-1000036806?watch=true\n",
      "https://www.sonyliv.com/shows/taarak-mehta-ka-ooltah-chashmah-1700000084/taarak-mehta-ka-ooltah-chashmah-popatlal-gives-a-shock-1000036789?watch=true\n",
      "https://www.sonyliv.com/shows/taarak-mehta-ka-ooltah-chashmah-1700000084/taarak-mehta-ka-ooltah-chashmah-nattu-kaka-is-back-1000037014?watch=true\n",
      "https://www.sonyliv.com/shows/taarak-mehta-ka-ooltah-chashmah-1700000084/taarak-mehta-ka-ooltah-chashmah-painting-the-society-1000037006?watch=true\n",
      "https://www.sonyliv.com/shows/taarak-mehta-ka-ooltah-chashmah-1700000084/taarak-mehta-ka-ooltah-chashmah-all-s-well-that-ends-well-1000036928?watch=true\n",
      "https://www.sonyliv.com/shows/taarak-mehta-ka-ooltah-chashmah-1700000084/taarak-mehta-ka-ooltah-chashmah-where-is-the-money-1000036925?watch=true\n",
      "https://www.sonyliv.com/shows/taarak-mehta-ka-ooltah-chashmah-1700000084/taarak-mehta-ka-ooltah-chashmah-jethalal-is-upset-1000036939?watch=true\n",
      "https://www.sonyliv.com/shows/taarak-mehta-ka-ooltah-chashmah-1700000084/taarak-mehta-ka-ooltah-chashmah-the-revelation-1000036894?watch=true\n",
      "https://www.sonyliv.com/shows/taarak-mehta-ka-ooltah-chashmah-1700000084/taarak-mehta-ka-ooltah-chashmah-daya-has-a-request-1000036914?watch=true\n",
      "https://www.sonyliv.com/shows/taarak-mehta-ka-ooltah-chashmah-1700000084/taarak-mehta-ka-ooltah-chashmah-ladies-v-s-shopkeeper-1000014470?watch=true\n",
      "https://www.sonyliv.com/shows/taarak-mehta-ka-ooltah-chashmah-1700000084/taarak-mehta-ka-ooltah-chashmah-jethalal-is-upset-1000037397?watch=true\n",
      "https://www.sonyliv.com/shows/taarak-mehta-ka-ooltah-chashmah-1700000084/taarak-mehta-ka-ooltah-chashmah-the-la-hula-dance-1000014619?watch=true\n",
      "https://www.sonyliv.com/shows/taarak-mehta-ka-ooltah-chashmah-1700000084/taarak-mehta-ka-ooltah-chashmah-a-trip-to-mahabaleshwar-1000014614?watch=true\n",
      "https://www.sonyliv.com/shows/taarak-mehta-ka-ooltah-chashmah-1700000084/taarak-mehta-ka-ooltah-chashmah-the-pot-of-diamonds-1000014599?watch=true\n",
      "https://www.sonyliv.com/shows/taarak-mehta-ka-ooltah-chashmah-1700000084/taarak-mehta-ka-ooltah-chashmah-a-heart-warming-family-reunion-1000014565?watch=true\n",
      "https://www.sonyliv.com/shows/taarak-mehta-ka-ooltah-chashmah-1700000084/taarak-mehta-ka-ooltah-chashmah-where-is-bagha-1000035912?watch=true\n",
      "https://www.sonyliv.com/shows/taarak-mehta-ka-ooltah-chashmah-1700000084/taarak-mehta-ka-ooltah-chashmah-tapu-goes-missing-1000020873?watch=true\n",
      "https://www.sonyliv.com/shows/taarak-mehta-ka-ooltah-chashmah-1700000084/taarak-mehta-ka-ooltah-chashmah-tapu-sena-s-mind-1000020871?watch=true\n",
      "https://www.sonyliv.com/shows/taarak-mehta-ka-ooltah-chashmah-1700000084/taarak-mehta-ka-ooltah-chashmah-where-is-the-money-1000043182?watch=true\n",
      "https://www.sonyliv.com/shows/taarak-mehta-ka-ooltah-chashmah-1700000084/taarak-mehta-ka-ooltah-chashmah-champaklal-goes-on-a-ride-1000043059?watch=true\n",
      "https://www.sonyliv.com/shows/taarak-mehta-ka-ooltah-chashmah-1700000084/taarak-mehta-ka-ooltah-chashmah-bhide-gets-worried-1000047093?watch=true\n",
      "https://www.sonyliv.com/shows/taarak-mehta-ka-ooltah-chashmah-1700000084/taarak-mehta-ka-ooltah-chashmah-popatlal-s-trouble-1000047089?watch=true\n",
      "https://www.sonyliv.com/shows/taarak-mehta-ka-ooltah-chashmah-1700000084/taarak-mehta-ka-ooltah-chashmah-sundar-s-surprise-for-daya-1000020913?watch=true\n",
      "https://www.sonyliv.com/shows/taarak-mehta-ka-ooltah-chashmah-1700000084/taarak-mehta-ka-ooltah-chashmah-bhide-and-his-sakharam-1000020941?watch=true\n",
      "https://www.sonyliv.com/shows/taarak-mehta-ka-ooltah-chashmah-1700000084/taarak-mehta-ka-ooltah-chashmah-mission-saaf-safai-1000021120?watch=true\n"
     ]
    }
   ],
   "source": [
    "for i in episode_links.values():\n",
    "    print(i, end=\"\")"
   ]
  },
  {
   "cell_type": "code",
   "execution_count": null,
   "metadata": {},
   "outputs": [],
   "source": []
  }
 ],
 "metadata": {
  "kernelspec": {
   "display_name": "ExpVenv",
   "language": "python",
   "name": "python3"
  },
  "language_info": {
   "codemirror_mode": {
    "name": "ipython",
    "version": 3
   },
   "file_extension": ".py",
   "mimetype": "text/x-python",
   "name": "python",
   "nbconvert_exporter": "python",
   "pygments_lexer": "ipython3",
   "version": "3.10.8"
  }
 },
 "nbformat": 4,
 "nbformat_minor": 2
}
