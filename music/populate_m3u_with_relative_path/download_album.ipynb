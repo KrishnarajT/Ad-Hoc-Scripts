{
 "cells": [
  {
   "cell_type": "code",
   "execution_count": null,
   "id": "8a449980",
   "metadata": {},
   "outputs": [],
   "source": [
    "# so the idea is you have an album folder, in which you have atleast one song. "
   ]
  },
  {
   "cell_type": "code",
   "execution_count": null,
   "id": "a45af58e",
   "metadata": {},
   "outputs": [],
   "source": [
    "# we now search for this album on ytmusic, well get a bunch of results. "
   ]
  },
  {
   "cell_type": "code",
   "execution_count": null,
   "id": "a51f3de2",
   "metadata": {},
   "outputs": [],
   "source": [
    "# now you look through each result one by one until you find a very close match to the the song/s you already have in the folder. "
   ]
  },
  {
   "cell_type": "code",
   "execution_count": null,
   "id": "d1acad01",
   "metadata": {},
   "outputs": [],
   "source": [
    "# when you do, you get links of those songs. then you use ytdlp to download them, metadata is taken from the ytmusic api when you downloaded the album info. "
   ]
  },
  {
   "cell_type": "code",
   "execution_count": null,
   "id": "ca33b635",
   "metadata": {},
   "outputs": [],
   "source": []
  }
 ],
 "metadata": {
  "kernelspec": {
   "display_name": ".venv",
   "language": "python",
   "name": "python3"
  },
  "language_info": {
   "name": "python",
   "version": "3.13.2"
  }
 },
 "nbformat": 4,
 "nbformat_minor": 5
}
