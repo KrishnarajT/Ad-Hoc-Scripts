{
 "cells": [
  {
   "cell_type": "code",
   "execution_count": 1,
   "id": "6c1343bc",
   "metadata": {},
   "outputs": [
    {
     "data": {
      "text/plain": [
       "['apple']"
      ]
     },
     "execution_count": 1,
     "metadata": {},
     "output_type": "execute_result"
    }
   ],
   "source": [
    "import difflib\n",
    "difflib.get_close_matches(\"appl\", [\"apple\", \"application\", \"banana\"])\n"
   ]
  },
  {
   "cell_type": "code",
   "execution_count": 3,
   "id": "f677619a",
   "metadata": {},
   "outputs": [
    {
     "data": {
      "text/plain": [
       "0.9666666666666667"
      ]
     },
     "execution_count": 3,
     "metadata": {},
     "output_type": "execute_result"
    }
   ],
   "source": [
    "import textdistance\n",
    "textdistance.jaro_winkler(\"apple\", \"applle\")  # returns similarity score\n"
   ]
  },
  {
   "cell_type": "code",
   "execution_count": null,
   "id": "27f4c9d8",
   "metadata": {},
   "outputs": [
    {
     "name": "stdout",
     "output_type": "stream",
     "text": [
      "('Bohemian', 90.0, 0)\n"
     ]
    }
   ],
   "source": [
    "from rapidfuzz import process\n",
    "\n",
    "query = \"Bohemian Rhapsoy\"  # Misspelled input\n",
    "song_titles = [\n",
    "    \"Bohemian Rhapsodys\",\n",
    "    \"Don't Stop Me Now\",\n",
    "    \"Another One Bites the Dust\",\n",
    "    \"We Will Rock You\",\n",
    "    \"Bohemian Rhapsody - Remastered 2011\"\n",
    "]\n",
    "\n",
    "# Find top match\n",
    "best_match = process.extractOne(query, song_titles)\n",
    "print(best_match)  # ('Bohemian Rhapsody', score, index)\n"
   ]
  },
  {
   "cell_type": "code",
   "execution_count": 7,
   "id": "f62bb0d7",
   "metadata": {},
   "outputs": [
    {
     "name": "stdout",
     "output_type": "stream",
     "text": [
      "('Bohemian', 90.0, 0)\n",
      "('Bohemian Rhapsody - Remastered 2011', 87.0967741935484, 4)\n",
      "('Another One Bites the Dust', 33.75, 2)\n"
     ]
    }
   ],
   "source": [
    "top_matches = process.extract(query, song_titles, limit=3)\n",
    "for match in top_matches:\n",
    "    print(match)\n"
   ]
  },
  {
   "cell_type": "code",
   "execution_count": 8,
   "id": "6e10a9d0",
   "metadata": {},
   "outputs": [],
   "source": [
    "from mutagen import File"
   ]
  },
  {
   "cell_type": "code",
   "execution_count": 24,
   "id": "6b660cb1",
   "metadata": {},
   "outputs": [],
   "source": [
    "song = File(r'C:\\Users\\Krishnaraj\\Downloads\\python files\\populate_m3u_with_relative_path\\albums\\Aas Paas\\7. Dariya Mein Phenk Do Chabi.mp3').tags"
   ]
  },
  {
   "cell_type": "code",
   "execution_count": 21,
   "id": "f4c7337d",
   "metadata": {},
   "outputs": [],
   "source": [
    "song.get('artist')  # returns the artist name"
   ]
  },
  {
   "cell_type": "code",
   "execution_count": 22,
   "id": "5b014ba2",
   "metadata": {},
   "outputs": [],
   "source": [
    "song.get('ALBUM')  # returns the album name"
   ]
  },
  {
   "cell_type": "code",
   "execution_count": 23,
   "id": "e0cbb901",
   "metadata": {},
   "outputs": [],
   "source": [
    "song.get('title')"
   ]
  },
  {
   "cell_type": "code",
   "execution_count": 29,
   "id": "4100be70",
   "metadata": {},
   "outputs": [
    {
     "data": {
      "text/plain": [
       "'Lata Mangeshkar'"
      ]
     },
     "execution_count": 29,
     "metadata": {},
     "output_type": "execute_result"
    }
   ],
   "source": [
    "from mutagen.easyid3 import EasyID3\n",
    "\n",
    "audio = EasyID3(r'C:\\Users\\Krishnaraj\\Downloads\\python files\\populate_m3u_with_relative_path\\albums\\Aas Paas\\7. Dariya Mein Phenk Do Chabi.mp3')\n",
    "artist = audio.get(\"artist\", [\"Unknown Artist\"])[0]\n",
    "artist"
   ]
  },
  {
   "cell_type": "code",
   "execution_count": null,
   "id": "26a11929",
   "metadata": {},
   "outputs": [],
   "source": [
    "# relative path\n",
    "base\n",
    "playlist = r'C:\\Users\\Krishnaraj\\Downloads\\python files\\populate_m3u_with_relative_path\\albums\\2 Song Repeat.m3u'\n",
    "song = r'C:\\Users\\Krishnaraj\\Downloads\\python files\\populate_m3u_with_relative_path\\albums\\All Alone\\8. Indiscreet.flac'"
   ]
  },
  {
   "cell_type": "code",
   "execution_count": 42,
   "id": "5977e455",
   "metadata": {},
   "outputs": [],
   "source": [
    "from pathlib import Path"
   ]
  },
  {
   "cell_type": "code",
   "execution_count": null,
   "id": "871393de",
   "metadata": {},
   "outputs": [
    {
     "ename": "ValueError",
     "evalue": "'C:\\\\Users\\\\Krishnaraj\\\\Downloads\\\\python files\\\\populate_m3u_with_relative_path\\\\albums\\\\All Alone\\\\8. Indiscreet.flac' is not in the subpath of 'C:\\\\Users\\\\Krishnaraj\\\\Downloads\\\\python files\\\\populate_m3u_with_relative_path\\\\albums\\\\2 Song Repeat.m3u'",
     "output_type": "error",
     "traceback": [
      "\u001b[31m---------------------------------------------------------------------------\u001b[39m",
      "\u001b[31mValueError\u001b[39m                                Traceback (most recent call last)",
      "\u001b[36mCell\u001b[39m\u001b[36m \u001b[39m\u001b[32mIn[43]\u001b[39m\u001b[32m, line 2\u001b[39m\n\u001b[32m      1\u001b[39m \u001b[38;5;66;03m# get relative path for the song file that the playlist file can access\u001b[39;00m\n\u001b[32m----> \u001b[39m\u001b[32m2\u001b[39m relative_path = \u001b[43mPath\u001b[49m\u001b[43m(\u001b[49m\u001b[43msong\u001b[49m\u001b[43m)\u001b[49m\u001b[43m.\u001b[49m\u001b[43mrelative_to\u001b[49m\u001b[43m(\u001b[49m\u001b[43mplaylist\u001b[49m\u001b[43m)\u001b[49m\n",
      "\u001b[36mFile \u001b[39m\u001b[32mC:\\Python313\\Lib\\pathlib\\_local.py:385\u001b[39m, in \u001b[36mPurePath.relative_to\u001b[39m\u001b[34m(self, other, walk_up, *_deprecated)\u001b[39m\n\u001b[32m    383\u001b[39m     \u001b[38;5;28;01mbreak\u001b[39;00m\n\u001b[32m    384\u001b[39m \u001b[38;5;28;01melif\u001b[39;00m \u001b[38;5;129;01mnot\u001b[39;00m walk_up:\n\u001b[32m--> \u001b[39m\u001b[32m385\u001b[39m     \u001b[38;5;28;01mraise\u001b[39;00m \u001b[38;5;167;01mValueError\u001b[39;00m(\u001b[33mf\u001b[39m\u001b[33m\"\u001b[39m\u001b[38;5;132;01m{\u001b[39;00m\u001b[38;5;28mstr\u001b[39m(\u001b[38;5;28mself\u001b[39m)\u001b[38;5;132;01m!r}\u001b[39;00m\u001b[33m is not in the subpath of \u001b[39m\u001b[38;5;132;01m{\u001b[39;00m\u001b[38;5;28mstr\u001b[39m(other)\u001b[38;5;132;01m!r}\u001b[39;00m\u001b[33m\"\u001b[39m)\n\u001b[32m    386\u001b[39m \u001b[38;5;28;01melif\u001b[39;00m path.name == \u001b[33m'\u001b[39m\u001b[33m..\u001b[39m\u001b[33m'\u001b[39m:\n\u001b[32m    387\u001b[39m     \u001b[38;5;28;01mraise\u001b[39;00m \u001b[38;5;167;01mValueError\u001b[39;00m(\u001b[33mf\u001b[39m\u001b[33m\"\u001b[39m\u001b[33m'\u001b[39m\u001b[33m..\u001b[39m\u001b[33m'\u001b[39m\u001b[33m segment in \u001b[39m\u001b[38;5;132;01m{\u001b[39;00m\u001b[38;5;28mstr\u001b[39m(other)\u001b[38;5;132;01m!r}\u001b[39;00m\u001b[33m cannot be walked\u001b[39m\u001b[33m\"\u001b[39m)\n",
      "\u001b[31mValueError\u001b[39m: 'C:\\\\Users\\\\Krishnaraj\\\\Downloads\\\\python files\\\\populate_m3u_with_relative_path\\\\albums\\\\All Alone\\\\8. Indiscreet.flac' is not in the subpath of 'C:\\\\Users\\\\Krishnaraj\\\\Downloads\\\\python files\\\\populate_m3u_with_relative_path\\\\albums\\\\2 Song Repeat.m3u'"
     ]
    }
   ],
   "source": [
    "# get relative path for the song file that the playlist file can access\n",
    "relative_path = Path(playlist).relative_to(playlist)"
   ]
  },
  {
   "cell_type": "code",
   "execution_count": null,
   "id": "344668ae",
   "metadata": {},
   "outputs": [],
   "source": []
  }
 ],
 "metadata": {
  "kernelspec": {
   "display_name": ".venv",
   "language": "python",
   "name": "python3"
  },
  "language_info": {
   "codemirror_mode": {
    "name": "ipython",
    "version": 3
   },
   "file_extension": ".py",
   "mimetype": "text/x-python",
   "name": "python",
   "nbconvert_exporter": "python",
   "pygments_lexer": "ipython3",
   "version": "3.13.2"
  }
 },
 "nbformat": 4,
 "nbformat_minor": 5
}
