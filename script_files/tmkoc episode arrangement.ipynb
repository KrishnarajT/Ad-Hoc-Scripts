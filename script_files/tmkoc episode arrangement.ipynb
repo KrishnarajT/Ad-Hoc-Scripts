{
 "cells": [
  {
   "cell_type": "code",
   "execution_count": 1,
   "metadata": {},
   "outputs": [],
   "source": [
    "import os"
   ]
  },
  {
   "cell_type": "code",
   "execution_count": 2,
   "metadata": {},
   "outputs": [
    {
     "name": "stdout",
     "output_type": "stream",
     "text": [
      "c:\\Users\\Krishnaraj\\Downloads\n"
     ]
    }
   ],
   "source": [
    "# print the current working directory\n",
    "print(os.getcwd())"
   ]
  },
  {
   "cell_type": "code",
   "execution_count": 3,
   "metadata": {},
   "outputs": [],
   "source": [
    "# get the list of episodes\n",
    "episodes_file = os.path.join(\n",
    "    os.getcwd(), \"tmkoc episode names with numbers till 2000.txt\"\n",
    ")"
   ]
  },
  {
   "cell_type": "code",
   "execution_count": 35,
   "metadata": {},
   "outputs": [],
   "source": [
    "# read episodes file.\n",
    "# make a hashmap with type <string, int> where key is episode name and value is episode number, read each line from file\n",
    "# and store it in hashmap\n",
    "\n",
    "episodes = {}\n",
    "with open(episodes_file, \"r\") as f:\n",
    "    for line in f:\n",
    "        episode_number, episode_name = line.strip().split(\".\", 1)\n",
    "        episode_name = episode_name.strip()\n",
    "        episode_name = episode_name.strip(\"?\")\n",
    "        episode_name = episode_name.replace(\"Taarak Mehta Ka Ooltah Chashmah - \", \"\")\n",
    "        episodes[episode_name] = int(episode_number)"
   ]
  },
  {
   "cell_type": "code",
   "execution_count": null,
   "metadata": {},
   "outputs": [],
   "source": [
    "# print the first 100 episodes\n",
    "for episode_name, episode_number in list(episodes.items())[:100]:\n",
    "    print(f\"{episode_number}: {episode_name}\")"
   ]
  },
  {
   "cell_type": "code",
   "execution_count": 63,
   "metadata": {},
   "outputs": [],
   "source": [
    "all_episodes_directory = \"D:\\Shows\\Taarak Mehta Ka Ooltah Chashmah\"\n",
    "# get the list of files in the directory\n",
    "all_files = os.listdir(all_episodes_directory)"
   ]
  },
  {
   "cell_type": "code",
   "execution_count": 64,
   "metadata": {},
   "outputs": [
    {
     "name": "stdout",
     "output_type": "stream",
     "text": [
      "Episode number not found for Taarak Mehta Ka Ooltah Chashmah - Gokuldham Society is all set to celebrate Ganesh Chathurthi\n",
      "Episode number not found for Taarak Mehta Ka Ooltah Chashmah - Gulaab Gets Surprised To See Her Husband's Photo In Gada House\n",
      "Episode number not found for Taarak Mehta Ka Ooltah Chashmah - Jethalal And Shaikh Are Waiting For Badri Nath's Final Answer\n",
      "Episode number not found for Taarak Mehta Ka Ooltah Chashmah - Mobile Phones Could Be Called  Best Friends\n",
      "Episode number not found for Taarak Mehta Ka Ooltah Chashmah - Natu Kaka's Unique Way To Convince Jethalal To Increase His Salary\n",
      "Episode number not found for Taarak Mehta Ka Ooltah Chashmah - Shaikh  Offers A Warning To Jethalal\n",
      "Episode number not found for Taarak Mehta Ka Ooltah Chashmah - Taarak Talks To The Audience About The Human Organ Trafficking\n",
      "Episode number not found for Taarak Mehta Ka Ooltah Chashmah - Tapu Sena Collects A Whopping Amount For Their Project Roshni\n",
      "Episode number not found for Taarak Mehta Ka Ooltah Chashmah - Tapu Sena Firmly Decide To Collect Rs. 25,000 For Project Roshni\n"
     ]
    }
   ],
   "source": [
    "# iterate through all files in the directory, and match with the hashmap. Then rename the file with episode number, and name from hashmap\n",
    "unknown_files = []\n",
    "unaccounted_for_episodes = episodes.copy()\n",
    "for file in all_files:\n",
    "    if file.startswith(\"S01E\"):\n",
    "        continue\n",
    "    old_file_name = file\n",
    "    # format file\n",
    "    file = file.strip()\n",
    "    # replace name\n",
    "    file = file.replace(\"Taarak Mehta Ka Ooltah Chashmah –\", \"\")\n",
    "    # remove extension\n",
    "    file = file.replace(\".mp4\", \"\")\n",
    "    file = file.strip()\n",
    "\n",
    "    # now since we have a hash map, we can get the episode number from the hashmap\n",
    "    episode_number = episodes.get(file)\n",
    "    # if episode number is not found, then add the file to a list\n",
    "    if episode_number is None:\n",
    "        print(f\"Episode number not found for {file}\")\n",
    "        unknown_files.append(file)\n",
    "        continue\n",
    "\n",
    "    # at this point we got a match.\n",
    "    # remove the episode from the hashmap\n",
    "    unaccounted_for_episodes.pop(file)\n",
    "\n",
    "    # format the episode number to 4 digits\n",
    "    episode_number = str(episode_number).zfill(4)\n",
    "    # rename the file\n",
    "    new_name = f\"S01E{episode_number}. {file}.mp4\"\n",
    "    print(f\"Renaming {file} to {new_name}\")\n",
    "    try:\n",
    "        os.rename(\n",
    "            os.path.join(all_episodes_directory, old_file_name),\n",
    "            os.path.join(all_episodes_directory, new_name),\n",
    "        )\n",
    "    except Exception as e:\n",
    "        print(f\"Error renaming {file} to {new_name}\")\n",
    "        print(e)"
   ]
  },
  {
   "cell_type": "code",
   "execution_count": 65,
   "metadata": {},
   "outputs": [
    {
     "name": "stdout",
     "output_type": "stream",
     "text": [
      "9\n",
      "1983\n"
     ]
    }
   ],
   "source": [
    "print(len(unknown_files))\n",
    "print(len(unaccounted_for_episodes))"
   ]
  },
  {
   "cell_type": "code",
   "execution_count": 66,
   "metadata": {},
   "outputs": [
    {
     "name": "stdout",
     "output_type": "stream",
     "text": [
      "Renaming Taarak Mehta Ka Ooltah Chashmah - Gokuldham Society is all set to celebrate Ganesh Chathurthi to S01E0024. Gokuldham Society is all set to celebrate Ganesh Chathurth.mp4\n",
      "Renaming Taarak Mehta Ka Ooltah Chashmah - Gulaab Gets Surprised To See Her Husband's Photo In Gada House to S01E1026. Gulaab Gets Surprised To See Her Husband's Photo In Gada H.mp4\n",
      "Renaming Taarak Mehta Ka Ooltah Chashmah - Jethalal And Shaikh Are Waiting For Badri Nath's Final Answer to S01E0049. Jethalal And Shaikh Are Waiting For Badri Nath's Final Ans.mp4\n",
      "Renaming Taarak Mehta Ka Ooltah Chashmah - Mobile Phones Could Be Called  Best Friends to S01E0011. Mobile Phones Could Be Called Best Friends.mp4\n",
      "Renaming Taarak Mehta Ka Ooltah Chashmah - Natu Kaka's Unique Way To Convince Jethalal To Increase His Salary to S01E1000. Natu Kaka's Unique Way To Convince Jethalal To Increase Hi.mp4\n",
      "Renaming Taarak Mehta Ka Ooltah Chashmah - Shaikh  Offers A Warning To Jethalal to S01E0046. Shaikh Offers A Warning To Jethalal.mp4\n",
      "Renaming Taarak Mehta Ka Ooltah Chashmah - Taarak Talks To The Audience About The Human Organ Trafficking to S01E0045. Taarak Talks To The Audience About The Human Organ Traffic.mp4\n",
      "Renaming Taarak Mehta Ka Ooltah Chashmah - Tapu Sena Collects A Whopping Amount For Their Project Roshni to S01E1015. Tapu Sena Collects A Whopping Amount For Their Project Ros.mp4\n",
      "Renaming Taarak Mehta Ka Ooltah Chashmah - Tapu Sena Firmly Decide To Collect Rs. 25,000 For Project Roshni to S01E1010. Tapu Sena Firmly Decide To Collect Rs. 25,000 For Project.mp4\n"
     ]
    }
   ],
   "source": [
    "# now for the rest of the files, we know for a fact that the names have got to do atleast something with the names in our list.\n",
    "# so lets try to find a percentage match between our names and iterate through all our unaccounted for episodes\n",
    "\n",
    "# for each episode name in unknown files, iterate through all the episode names in the hashmap and find the best match\n",
    "# if the match is above a certain threshold, then rename the file\n",
    "\n",
    "# threshold for match\n",
    "\n",
    "threshold = 0.9\n",
    "from fuzzywuzzy import fuzz\n",
    "\n",
    "for unknown_file in unknown_files:\n",
    "    max_match = 0\n",
    "    best_match = None\n",
    "    for episode_name in unaccounted_for_episodes.keys():\n",
    "        match = fuzz.ratio(unknown_file, episode_name)\n",
    "        if match > max_match:\n",
    "            max_match = match\n",
    "            best_match = episode_name\n",
    "    if max_match > threshold:\n",
    "        episode_number = unaccounted_for_episodes.pop(best_match)\n",
    "        episode_number = str(episode_number).zfill(4)\n",
    "        new_name = f\"S01E{episode_number}. {best_match}.mp4\"\n",
    "        print(f\"Renaming {unknown_file} to {new_name}\")\n",
    "        try:\n",
    "            os.rename(\n",
    "                os.path.join(all_episodes_directory, unknown_file + \".mp4\"),\n",
    "                os.path.join(all_episodes_directory, new_name),\n",
    "            )\n",
    "        except Exception as e:\n",
    "            print(f\"Error renaming {unknown_file} to {new_name}\")\n",
    "            print(e)"
   ]
  },
  {
   "cell_type": "code",
   "execution_count": null,
   "metadata": {},
   "outputs": [],
   "source": []
  }
 ],
 "metadata": {
  "kernelspec": {
   "display_name": "ExpVenv",
   "language": "python",
   "name": "python3"
  },
  "language_info": {
   "codemirror_mode": {
    "name": "ipython",
    "version": 3
   },
   "file_extension": ".py",
   "mimetype": "text/x-python",
   "name": "python",
   "nbconvert_exporter": "python",
   "pygments_lexer": "ipython3",
   "version": "3.10.8"
  }
 },
 "nbformat": 4,
 "nbformat_minor": 2
}
